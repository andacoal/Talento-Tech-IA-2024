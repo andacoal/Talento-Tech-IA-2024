{
  "nbformat": 4,
  "nbformat_minor": 0,
  "metadata": {
    "colab": {
      "provenance": []
    },
    "kernelspec": {
      "name": "python3",
      "display_name": "Python 3"
    },
    "language_info": {
      "name": "python"
    }
  },
  "cells": [
    {
      "cell_type": "markdown",
      "source": [
        "# Modelos de redes neuronales en Keras"
      ],
      "metadata": {
        "id": "yocGONrnYlBI"
      }
    },
    {
      "cell_type": "markdown",
      "source": [
        "\n",
        "\n",
        "---\n",
        "Por: Ángela Daniela Córdoba Álvarez\n",
        "\n",
        "\n",
        "---\n",
        "\n",
        "\n"
      ],
      "metadata": {
        "id": "mDVKzeLxYowq"
      }
    },
    {
      "cell_type": "markdown",
      "source": [
        "El prcoeso para generar redes neuronales en Keras radica principalmente en preparar los datos para luego dividirlos en conjuntos de entrenamiento, validación y prueba. Luego, se importan las librerías necesarias: Sequential (para modelos secuenciales y capas específicas), Dense, Conv2D, etc.\n",
        "\n",
        "Siguiendo, se configura el modelo creando una instancia de un modelo secuencial o funcional; se añaden capas al modelo mientras se especifica el número de neuronas, la función de activación, la regularización, etc. Luego, para compilar el modelo se usa el método *'compile'* mientras se especifica el optimizador, la función de pérdida y las métricas necesarias para evaluar el rendimiento del modelo durante el entrenamiento. Se usa el método *'fit'* para entrenar el modelo mientras se especifica el número de épocas de entrenamiento y el batch size. Se utiliza el método *'evaluate'* para evaluar el rendimiento del modelo; y se usa *'predict'* para realizar predicciones en nuevos datos.\n",
        "\n",
        "Por último, se ajustan los hiperparámetros para encontrar la combinación óptima de hiperparámetros que maximice el rendimiento de nuestro modelo."
      ],
      "metadata": {
        "id": "S1VrV9A2ZzWo"
      }
    },
    {
      "cell_type": "markdown",
      "source": [
        "### Modelo de red neuronal usando Keras:"
      ],
      "metadata": {
        "id": "arReDlENbWh3"
      }
    },
    {
      "cell_type": "code",
      "source": [
        "# Importar librerías\n",
        "import numpy as np\n",
        "import keras"
      ],
      "metadata": {
        "id": "o57fkaWyYpAy"
      },
      "execution_count": 1,
      "outputs": []
    },
    {
      "cell_type": "code",
      "source": [
        "# Contrucción de un modelo secuencial\n",
        "# Las capas se apilan en secuencia\n",
        "model = keras.Sequential([keras.layers.Dense(units=1, input_shape=[1])])"
      ],
      "metadata": {
        "id": "8kMoBQDRYs7f"
      },
      "execution_count": 2,
      "outputs": []
    },
    {
      "cell_type": "code",
      "execution_count": 3,
      "metadata": {
        "id": "J3nRvrlCYdt5"
      },
      "outputs": [],
      "source": [
        "# Compilar el modelo usando el optimizador de descenso de gradiente estocástico y la función de pérdida de error cuadrático medio\n",
        "model.compile(optimizer='sgd', loss='mean_squared_error')"
      ]
    },
    {
      "cell_type": "code",
      "source": [
        "# Se declaran las entradas y salidas para el entrenamiento\n",
        "X = np.array([1.0, 2.0, 3.0, 4.0, 5.0], dtype=float)\n",
        "y = np.array([11.0, 21.0, 31.0, 41.0, 51.0], dtype=float)"
      ],
      "metadata": {
        "id": "kxvrn021cAbC"
      },
      "execution_count": 4,
      "outputs": []
    },
    {
      "cell_type": "markdown",
      "source": [
        "Durante cada época, el modelo va a ajustar los pesos para minimizar la función de pérdida."
      ],
      "metadata": {
        "id": "-4N6FgnHcnIY"
      }
    },
    {
      "cell_type": "code",
      "source": [
        "# Entrenar el modelo\n",
        "model.fit(X, y, epochs=100) #epochs= número de épocas para entrenar el modelo"
      ],
      "metadata": {
        "colab": {
          "base_uri": "https://localhost:8080/"
        },
        "id": "U6eqg8BycSqQ",
        "outputId": "f996b3ad-e4f3-4761-ad94-92be8bf92ed9"
      },
      "execution_count": 5,
      "outputs": [
        {
          "output_type": "stream",
          "name": "stdout",
          "text": [
            "Epoch 1/100\n",
            "1/1 [==============================] - 2s 2s/step - loss: 1466.3180\n",
            "Epoch 2/100\n",
            "1/1 [==============================] - 0s 40ms/step - loss: 854.7877\n",
            "Epoch 3/100\n",
            "1/1 [==============================] - 0s 26ms/step - loss: 498.4163\n",
            "Epoch 4/100\n",
            "1/1 [==============================] - 0s 16ms/step - loss: 290.7387\n",
            "Epoch 5/100\n",
            "1/1 [==============================] - 0s 19ms/step - loss: 169.7125\n",
            "Epoch 6/100\n",
            "1/1 [==============================] - 0s 21ms/step - loss: 99.1826\n",
            "Epoch 7/100\n",
            "1/1 [==============================] - 0s 43ms/step - loss: 58.0793\n",
            "Epoch 8/100\n",
            "1/1 [==============================] - 0s 14ms/step - loss: 34.1245\n",
            "Epoch 9/100\n",
            "1/1 [==============================] - 0s 24ms/step - loss: 20.1629\n",
            "Epoch 10/100\n",
            "1/1 [==============================] - 0s 25ms/step - loss: 12.0249\n",
            "Epoch 11/100\n",
            "1/1 [==============================] - 0s 25ms/step - loss: 7.2806\n",
            "Epoch 12/100\n",
            "1/1 [==============================] - 0s 16ms/step - loss: 4.5140\n",
            "Epoch 13/100\n",
            "1/1 [==============================] - 0s 25ms/step - loss: 2.9000\n",
            "Epoch 14/100\n",
            "1/1 [==============================] - 0s 12ms/step - loss: 1.9576\n",
            "Epoch 15/100\n",
            "1/1 [==============================] - 0s 19ms/step - loss: 1.4066\n",
            "Epoch 16/100\n",
            "1/1 [==============================] - 0s 13ms/step - loss: 1.0837\n",
            "Epoch 17/100\n",
            "1/1 [==============================] - 0s 13ms/step - loss: 0.8937\n",
            "Epoch 18/100\n",
            "1/1 [==============================] - 0s 11ms/step - loss: 0.7813\n",
            "Epoch 19/100\n",
            "1/1 [==============================] - 0s 16ms/step - loss: 0.7140\n",
            "Epoch 20/100\n",
            "1/1 [==============================] - 0s 15ms/step - loss: 0.6730\n",
            "Epoch 21/100\n",
            "1/1 [==============================] - 0s 39ms/step - loss: 0.6474\n",
            "Epoch 22/100\n",
            "1/1 [==============================] - 0s 20ms/step - loss: 0.6308\n",
            "Epoch 23/100\n",
            "1/1 [==============================] - 0s 14ms/step - loss: 0.6194\n",
            "Epoch 24/100\n",
            "1/1 [==============================] - 0s 20ms/step - loss: 0.6110\n",
            "Epoch 25/100\n",
            "1/1 [==============================] - 0s 17ms/step - loss: 0.6045\n",
            "Epoch 26/100\n",
            "1/1 [==============================] - 0s 12ms/step - loss: 0.5990\n",
            "Epoch 27/100\n",
            "1/1 [==============================] - 0s 41ms/step - loss: 0.5941\n",
            "Epoch 28/100\n",
            "1/1 [==============================] - 0s 12ms/step - loss: 0.5896\n",
            "Epoch 29/100\n",
            "1/1 [==============================] - 0s 16ms/step - loss: 0.5853\n",
            "Epoch 30/100\n",
            "1/1 [==============================] - 0s 17ms/step - loss: 0.5812\n",
            "Epoch 31/100\n",
            "1/1 [==============================] - 0s 15ms/step - loss: 0.5772\n",
            "Epoch 32/100\n",
            "1/1 [==============================] - 0s 18ms/step - loss: 0.5733\n",
            "Epoch 33/100\n",
            "1/1 [==============================] - 0s 31ms/step - loss: 0.5694\n",
            "Epoch 34/100\n",
            "1/1 [==============================] - 0s 29ms/step - loss: 0.5655\n",
            "Epoch 35/100\n",
            "1/1 [==============================] - 0s 19ms/step - loss: 0.5617\n",
            "Epoch 36/100\n",
            "1/1 [==============================] - 0s 17ms/step - loss: 0.5579\n",
            "Epoch 37/100\n",
            "1/1 [==============================] - 0s 28ms/step - loss: 0.5541\n",
            "Epoch 38/100\n",
            "1/1 [==============================] - 0s 14ms/step - loss: 0.5504\n",
            "Epoch 39/100\n",
            "1/1 [==============================] - 0s 14ms/step - loss: 0.5466\n",
            "Epoch 40/100\n",
            "1/1 [==============================] - 0s 16ms/step - loss: 0.5430\n",
            "Epoch 41/100\n",
            "1/1 [==============================] - 0s 19ms/step - loss: 0.5393\n",
            "Epoch 42/100\n",
            "1/1 [==============================] - 0s 16ms/step - loss: 0.5356\n",
            "Epoch 43/100\n",
            "1/1 [==============================] - 0s 13ms/step - loss: 0.5320\n",
            "Epoch 44/100\n",
            "1/1 [==============================] - 0s 16ms/step - loss: 0.5284\n",
            "Epoch 45/100\n",
            "1/1 [==============================] - 0s 15ms/step - loss: 0.5249\n",
            "Epoch 46/100\n",
            "1/1 [==============================] - 0s 16ms/step - loss: 0.5213\n",
            "Epoch 47/100\n",
            "1/1 [==============================] - 0s 15ms/step - loss: 0.5178\n",
            "Epoch 48/100\n",
            "1/1 [==============================] - 0s 15ms/step - loss: 0.5143\n",
            "Epoch 49/100\n",
            "1/1 [==============================] - 0s 14ms/step - loss: 0.5108\n",
            "Epoch 50/100\n",
            "1/1 [==============================] - 0s 20ms/step - loss: 0.5074\n",
            "Epoch 51/100\n",
            "1/1 [==============================] - 0s 24ms/step - loss: 0.5040\n",
            "Epoch 52/100\n",
            "1/1 [==============================] - 0s 47ms/step - loss: 0.5006\n",
            "Epoch 53/100\n",
            "1/1 [==============================] - 0s 41ms/step - loss: 0.4972\n",
            "Epoch 54/100\n",
            "1/1 [==============================] - 0s 41ms/step - loss: 0.4938\n",
            "Epoch 55/100\n",
            "1/1 [==============================] - 0s 18ms/step - loss: 0.4905\n",
            "Epoch 56/100\n",
            "1/1 [==============================] - 0s 17ms/step - loss: 0.4872\n",
            "Epoch 57/100\n",
            "1/1 [==============================] - 0s 34ms/step - loss: 0.4839\n",
            "Epoch 58/100\n",
            "1/1 [==============================] - 0s 28ms/step - loss: 0.4806\n",
            "Epoch 59/100\n",
            "1/1 [==============================] - 0s 24ms/step - loss: 0.4774\n",
            "Epoch 60/100\n",
            "1/1 [==============================] - 0s 25ms/step - loss: 0.4742\n",
            "Epoch 61/100\n",
            "1/1 [==============================] - 0s 26ms/step - loss: 0.4710\n",
            "Epoch 62/100\n",
            "1/1 [==============================] - 0s 26ms/step - loss: 0.4678\n",
            "Epoch 63/100\n",
            "1/1 [==============================] - 0s 19ms/step - loss: 0.4646\n",
            "Epoch 64/100\n",
            "1/1 [==============================] - 0s 25ms/step - loss: 0.4615\n",
            "Epoch 65/100\n",
            "1/1 [==============================] - 0s 21ms/step - loss: 0.4584\n",
            "Epoch 66/100\n",
            "1/1 [==============================] - 0s 17ms/step - loss: 0.4553\n",
            "Epoch 67/100\n",
            "1/1 [==============================] - 0s 17ms/step - loss: 0.4522\n",
            "Epoch 68/100\n",
            "1/1 [==============================] - 0s 21ms/step - loss: 0.4492\n",
            "Epoch 69/100\n",
            "1/1 [==============================] - 0s 17ms/step - loss: 0.4461\n",
            "Epoch 70/100\n",
            "1/1 [==============================] - 0s 16ms/step - loss: 0.4431\n",
            "Epoch 71/100\n",
            "1/1 [==============================] - 0s 17ms/step - loss: 0.4401\n",
            "Epoch 72/100\n",
            "1/1 [==============================] - 0s 17ms/step - loss: 0.4371\n",
            "Epoch 73/100\n",
            "1/1 [==============================] - 0s 16ms/step - loss: 0.4342\n",
            "Epoch 74/100\n",
            "1/1 [==============================] - 0s 18ms/step - loss: 0.4313\n",
            "Epoch 75/100\n",
            "1/1 [==============================] - 0s 19ms/step - loss: 0.4284\n",
            "Epoch 76/100\n",
            "1/1 [==============================] - 0s 16ms/step - loss: 0.4255\n",
            "Epoch 77/100\n",
            "1/1 [==============================] - 0s 14ms/step - loss: 0.4226\n",
            "Epoch 78/100\n",
            "1/1 [==============================] - 0s 20ms/step - loss: 0.4197\n",
            "Epoch 79/100\n",
            "1/1 [==============================] - 0s 19ms/step - loss: 0.4169\n",
            "Epoch 80/100\n",
            "1/1 [==============================] - 0s 20ms/step - loss: 0.4141\n",
            "Epoch 81/100\n",
            "1/1 [==============================] - 0s 20ms/step - loss: 0.4113\n",
            "Epoch 82/100\n",
            "1/1 [==============================] - 0s 20ms/step - loss: 0.4085\n",
            "Epoch 83/100\n",
            "1/1 [==============================] - 0s 21ms/step - loss: 0.4058\n",
            "Epoch 84/100\n",
            "1/1 [==============================] - 0s 19ms/step - loss: 0.4030\n",
            "Epoch 85/100\n",
            "1/1 [==============================] - 0s 24ms/step - loss: 0.4003\n",
            "Epoch 86/100\n",
            "1/1 [==============================] - 0s 21ms/step - loss: 0.3976\n",
            "Epoch 87/100\n",
            "1/1 [==============================] - 0s 23ms/step - loss: 0.3949\n",
            "Epoch 88/100\n",
            "1/1 [==============================] - 0s 22ms/step - loss: 0.3923\n",
            "Epoch 89/100\n",
            "1/1 [==============================] - 0s 26ms/step - loss: 0.3896\n",
            "Epoch 90/100\n",
            "1/1 [==============================] - 0s 28ms/step - loss: 0.3870\n",
            "Epoch 91/100\n",
            "1/1 [==============================] - 0s 25ms/step - loss: 0.3844\n",
            "Epoch 92/100\n",
            "1/1 [==============================] - 0s 23ms/step - loss: 0.3818\n",
            "Epoch 93/100\n",
            "1/1 [==============================] - 0s 23ms/step - loss: 0.3792\n",
            "Epoch 94/100\n",
            "1/1 [==============================] - 0s 19ms/step - loss: 0.3766\n",
            "Epoch 95/100\n",
            "1/1 [==============================] - 0s 28ms/step - loss: 0.3741\n",
            "Epoch 96/100\n",
            "1/1 [==============================] - 0s 19ms/step - loss: 0.3716\n",
            "Epoch 97/100\n",
            "1/1 [==============================] - 0s 19ms/step - loss: 0.3691\n",
            "Epoch 98/100\n",
            "1/1 [==============================] - 0s 22ms/step - loss: 0.3666\n",
            "Epoch 99/100\n",
            "1/1 [==============================] - 0s 20ms/step - loss: 0.3641\n",
            "Epoch 100/100\n",
            "1/1 [==============================] - 0s 20ms/step - loss: 0.3616\n"
          ]
        },
        {
          "output_type": "execute_result",
          "data": {
            "text/plain": [
              "<keras.src.callbacks.History at 0x796ba8134850>"
            ]
          },
          "metadata": {},
          "execution_count": 5
        }
      ]
    },
    {
      "cell_type": "code",
      "source": [
        "# Realizar la predicción\n",
        "print(model.predict([10.0]))"
      ],
      "metadata": {
        "colab": {
          "base_uri": "https://localhost:8080/"
        },
        "id": "eKiXeyemchDW",
        "outputId": "67463406-11f5-4c5a-a903-a1170f8259a8"
      },
      "execution_count": 6,
      "outputs": [
        {
          "output_type": "stream",
          "name": "stdout",
          "text": [
            "1/1 [==============================] - 0s 486ms/step\n",
            "[[98.51379]]\n"
          ]
        }
      ]
    },
    {
      "cell_type": "code",
      "source": [
        "# Probamos con diferentes tipos de predicción\n",
        "print(model.predict([2.0]))\n",
        "print(model.predict([[9.0]]))\n",
        "print(model.predict([[7.0], [3.0]]))"
      ],
      "metadata": {
        "colab": {
          "base_uri": "https://localhost:8080/"
        },
        "id": "R3AU2dQrc10M",
        "outputId": "60fc5597-41b1-4652-e9c8-48482980dd0f"
      },
      "execution_count": 7,
      "outputs": [
        {
          "output_type": "stream",
          "name": "stdout",
          "text": [
            "1/1 [==============================] - 0s 171ms/step\n",
            "[[21.626572]]\n",
            "1/1 [==============================] - 0s 186ms/step\n",
            "[[88.902885]]\n",
            "1/1 [==============================] - 0s 111ms/step\n",
            "[[69.68108 ]\n",
            " [31.237476]]\n"
          ]
        }
      ]
    },
    {
      "cell_type": "code",
      "source": [],
      "metadata": {
        "id": "17hJZV3idPIn"
      },
      "execution_count": 7,
      "outputs": []
    }
  ]
}