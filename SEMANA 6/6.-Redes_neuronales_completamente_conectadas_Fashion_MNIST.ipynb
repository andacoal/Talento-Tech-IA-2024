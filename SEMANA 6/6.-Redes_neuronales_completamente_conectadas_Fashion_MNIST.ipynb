{
  "nbformat": 4,
  "nbformat_minor": 0,
  "metadata": {
    "colab": {
      "provenance": []
    },
    "kernelspec": {
      "name": "python3",
      "display_name": "Python 3"
    },
    "language_info": {
      "name": "python"
    }
  },
  "cells": [
    {
      "cell_type": "markdown",
      "source": [
        "# Actividad\n",
        "Redes neuronales completamente conectadas\n",
        "aplicadas en Fashion MNIST reconocimiento de\n",
        "prendas de vestir."
      ],
      "metadata": {
        "id": "Z5k-MkXt-jJ4"
      }
    },
    {
      "cell_type": "markdown",
      "source": [
        "\n",
        "\n",
        "---\n",
        "Por: Ángela Daniela Córdoba Álvarez\n",
        "\n",
        "\n",
        "---\n",
        "\n",
        "\n"
      ],
      "metadata": {
        "id": "yShWFxI_-pzX"
      }
    },
    {
      "cell_type": "markdown",
      "source": [
        "En este caso se trata el conjunto de datos Fashion MNIST (Modified National Institute of Standards and Technology) sobre imágenes de prendas de vestir en formato 28x28 píxeles en escala de grises. Cada imagen pertenece a una de las 10 categorías de prendas diferentes, que incluyen camisetas, pantalones, suéteres, vestidos, abrigos, sandalias, camisas, zapatillas, bolsos y botines."
      ],
      "metadata": {
        "id": "fWSb18ZsvjjA"
      }
    },
    {
      "cell_type": "code",
      "execution_count": 1,
      "metadata": {
        "id": "dUZKTF0n-bp4"
      },
      "outputs": [],
      "source": [
        "import keras\n",
        "# Cargar el conjunto de datos MNIST\n",
        "fmnist = keras.datasets.fashion_mnist\n",
        "# Cargar la división de entrenamiento y prueba del conjunto de datos Fashion MNIST\n",
        "(training_images, training_labels), (test_images, test_labels) = fmnist.load_data()"
      ]
    },
    {
      "cell_type": "code",
      "source": [
        "# Visualización de una muestra, seleccionando un índice del conjunto\n",
        "import numpy as np\n",
        "import matplotlib.pyplot as plt\n",
        "index = 1\n",
        "np.set_printoptions(linewidth=320) # Imprimir la etiqueta e imagen\n",
        "print(f'Label: {training_labels[index]}')\n",
        "print(f'Image:\\n {training_images[index]}')\n",
        "# Visualizar la imagen\n",
        "plt.imshow(training_images[index])"
      ],
      "metadata": {
        "colab": {
          "base_uri": "https://localhost:8080/",
          "height": 968
        },
        "id": "NkMd7ZNgwPxu",
        "outputId": "df45daa9-1e42-4873-dcbd-954f9e1fce02"
      },
      "execution_count": 2,
      "outputs": [
        {
          "output_type": "stream",
          "name": "stdout",
          "text": [
            "Label: 0\n",
            "Image:\n",
            " [[  0   0   0   0   0   1   0   0   0   0  41 188 103  54  48  43  87 168 133  16   0   0   0   0   0   0   0   0]\n",
            " [  0   0   0   1   0   0   0  49 136 219 216 228 236 255 255 255 255 217 215 254 231 160  45   0   0   0   0   0]\n",
            " [  0   0   0   0   0  14 176 222 224 212 203 198 196 200 215 204 202 201 201 201 209 218 224 164   0   0   0   0]\n",
            " [  0   0   0   0   0 188 219 200 198 202 198 199 199 201 196 198 198 200 200 200 200 201 200 225  41   0   0   0]\n",
            " [  0   0   0   0  51 219 199 203 203 212 238 248 250 245 249 246 247 252 248 235 207 203 203 222 140   0   0   0]\n",
            " [  0   0   0   0 116 226 206 204 207 204 101  75  47  73  48  50  45  51  63 113 222 202 206 220 224   0   0   0]\n",
            " [  0   0   0   0 200 222 209 203 215 200   0  70  98   0 103  59  68  71  49   0 219 206 214 210 250  38   0   0]\n",
            " [  0   0   0   0 247 218 212 210 215 214   0 254 243 139 255 174 251 255 205   0 215 217 214 208 220  95   0   0]\n",
            " [  0   0   0  45 226 214 214 215 224 205   0  42  35  60  16  17  12  13  70   0 189 216 212 206 212 156   0   0]\n",
            " [  0   0   0 164 235 214 211 220 216 201  52  71  89  94  83  78  70  76  92  87 206 207 222 213 219 208   0   0]\n",
            " [  0   0   0 106 187 223 237 248 211 198 252 250 248 245 248 252 253 250 252 239 201 212 225 215 193 113   0   0]\n",
            " [  0   0   0   0   0  17  54 159 222 193 208 192 197 200 200 200 200 201 203 195 210 165   0   0   0   0   0   0]\n",
            " [  0   0   0   0   0   0   0  47 225 192 214 203 206 204 204 205 206 204 212 197 218 107   0   0   0   0   0   0]\n",
            " [  0   0   0   0   1   6   0  46 212 195 212 202 206 205 204 205 206 204 212 200 218  91   0   3   1   0   0   0]\n",
            " [  0   0   0   0   0   1   0  11 197 199 205 202 205 206 204 205 207 204 205 205 218  77   0   5   0   0   0   0]\n",
            " [  0   0   0   0   0   3   0   2 191 198 201 205 206 205 205 206 209 206 199 209 219  74   0   5   0   0   0   0]\n",
            " [  0   0   0   0   0   2   0   0 188 197 200 207 207 204 207 207 210 208 198 207 221  72   0   4   0   0   0   0]\n",
            " [  0   0   0   0   0   2   0   0 215 198 203 206 208 205 207 207 210 208 200 202 222  75   0   4   0   0   0   0]\n",
            " [  0   0   0   0   0   1   0   0 212 198 209 206 209 206 208 207 211 206 205 198 221  80   0   3   0   0   0   0]\n",
            " [  0   0   0   0   0   1   0   0 204 201 205 208 207 205 211 205 210 210 209 195 221  96   0   3   0   0   0   0]\n",
            " [  0   0   0   0   0   1   0   0 202 201 205 209 207 205 213 206 210 209 210 194 217 105   0   2   0   0   0   0]\n",
            " [  0   0   0   0   0   1   0   0 204 204 205 208 207 205 215 207 210 208 211 193 213 115   0   2   0   0   0   0]\n",
            " [  0   0   0   0   0   0   0   0 204 207 207 208 206 206 215 210 210 207 212 195 210 118   0   2   0   0   0   0]\n",
            " [  0   0   0   0   0   1   0   0 198 208 208 208 204 207 212 212 210 207 211 196 207 121   0   1   0   0   0   0]\n",
            " [  0   0   0   0   0   1   0   0 198 210 207 208 206 209 213 212 211 207 210 197 207 124   0   1   0   0   0   0]\n",
            " [  0   0   0   0   0   0   0   0 172 210 203 201 199 204 207 205 204 201 205 197 206 127   0   0   0   0   0   0]\n",
            " [  0   0   0   0   0   0   0   0 188 221 214 234 236 238 244 244 244 240 243 214 224 162   0   2   0   0   0   0]\n",
            " [  0   0   0   0   0   1   0   0 139 146 130 135 135 137 125 124 125 121 119 114 130  76   0   0   0   0   0   0]]\n"
          ]
        },
        {
          "output_type": "execute_result",
          "data": {
            "text/plain": [
              "<matplotlib.image.AxesImage at 0x79a25621d1e0>"
            ]
          },
          "metadata": {},
          "execution_count": 2
        },
        {
          "output_type": "display_data",
          "data": {
            "text/plain": [
              "<Figure size 640x480 with 1 Axes>"
            ],
            "image/png": "[encoded data removed]"
          },
          "metadata": {}
        }
      ]
    },
    {
      "cell_type": "code",
      "source": [
        "# Normalizar los valores de los datos de píxeles de las imágenes dividiendo por 255.0\n",
        "# Así los valores estarán dentro del rango [0,1]\n",
        "training_images = training_images / 255.0\n",
        "test_images = test_images / 255.0"
      ],
      "metadata": {
        "id": "P9fk0O3lw3QE"
      },
      "execution_count": 3,
      "outputs": []
    },
    {
      "cell_type": "code",
      "source": [
        "# Construir un modelo secuencial\n",
        "'''\n",
        "Consta de una capa de aplanamiento para convertir una imagen 2D en un vector 1D,\n",
        "junto con 2 capas completamente conectadas con una función de activación ReLU y\n",
        "una capa de salida softmax\n",
        "'''\n",
        "# Modelo de clasificación\n",
        "model = keras.models.Sequential([\n",
        "  keras.layers.Flatten(input_shape=(28, 28)),\n",
        "  keras.layers.Dense(128, activation='relu'),\n",
        "  keras.layers.Dense(10, activation='softmax')])"
      ],
      "metadata": {
        "id": "ORJXHlLqxGKl"
      },
      "execution_count": 4,
      "outputs": []
    },
    {
      "cell_type": "code",
      "source": [
        "# Compilar el modelo, especificando optimizador, función de pérdida y métricas\n",
        "model.compile(optimizer='adam',\n",
        "              loss='sparse_categorical_crossentropy',\n",
        "              metrics=['accuracy'])\n",
        "model.summary()"
      ],
      "metadata": {
        "colab": {
          "base_uri": "https://localhost:8080/"
        },
        "id": "Vbutjn39xnas",
        "outputId": "2af953fb-82be-473f-f982-5641e230609e"
      },
      "execution_count": 5,
      "outputs": [
        {
          "output_type": "stream",
          "name": "stdout",
          "text": [
            "Model: \"sequential\"\n",
            "_________________________________________________________________\n",
            " Layer (type)                Output Shape              Param #   \n",
            "=================================================================\n",
            " flatten (Flatten)           (None, 784)               0         \n",
            "                                                                 \n",
            " dense (Dense)               (None, 128)               100480    \n",
            "                                                                 \n",
            " dense_1 (Dense)             (None, 10)                1290      \n",
            "                                                                 \n",
            "=================================================================\n",
            "Total params: 101770 (397.54 KB)\n",
            "Trainable params: 101770 (397.54 KB)\n",
            "Non-trainable params: 0 (0.00 Byte)\n",
            "_________________________________________________________________\n"
          ]
        }
      ]
    },
    {
      "cell_type": "code",
      "source": [
        "# Entrenar el modelo con los datos de entrenamiento especificando número de épocas\n",
        "history = model.fit(training_images, training_labels, epochs=10)"
      ],
      "metadata": {
        "colab": {
          "base_uri": "https://localhost:8080/"
        },
        "id": "y4X930SgxziP",
        "outputId": "e1832e38-86db-40cd-ccbf-97bd51967008"
      },
      "execution_count": 6,
      "outputs": [
        {
          "output_type": "stream",
          "name": "stdout",
          "text": [
            "Epoch 1/10\n",
            "1875/1875 [==============================] - 15s 7ms/step - loss: 0.4969 - accuracy: 0.8247\n",
            "Epoch 2/10\n",
            "1875/1875 [==============================] - 8s 4ms/step - loss: 0.3731 - accuracy: 0.8644\n",
            "Epoch 3/10\n",
            "1875/1875 [==============================] - 7s 3ms/step - loss: 0.3364 - accuracy: 0.8767\n",
            "Epoch 4/10\n",
            "1875/1875 [==============================] - 8s 4ms/step - loss: 0.3102 - accuracy: 0.8863\n",
            "Epoch 5/10\n",
            "1875/1875 [==============================] - 6s 3ms/step - loss: 0.2942 - accuracy: 0.8907\n",
            "Epoch 6/10\n",
            "1875/1875 [==============================] - 8s 4ms/step - loss: 0.2783 - accuracy: 0.8973\n",
            "Epoch 7/10\n",
            "1875/1875 [==============================] - 7s 4ms/step - loss: 0.2668 - accuracy: 0.9015\n",
            "Epoch 8/10\n",
            "1875/1875 [==============================] - 8s 4ms/step - loss: 0.2556 - accuracy: 0.9045\n",
            "Epoch 9/10\n",
            "1875/1875 [==============================] - 8s 4ms/step - loss: 0.2473 - accuracy: 0.9074\n",
            "Epoch 10/10\n",
            "1875/1875 [==============================] - 7s 4ms/step - loss: 0.2375 - accuracy: 0.9107\n"
          ]
        }
      ]
    },
    {
      "cell_type": "code",
      "source": [
        "# Importar la biblioteca pandas\n",
        "import pandas as pd\n",
        "\n",
        "# Graficar historial de entrenamiento usando pandas para convertirlo a DataFrame\n",
        "# Trazar curvas de pérdida y métricas durante entrenamiento y validación\n",
        "pd.DataFrame(history.history).plot(grid=True)"
      ],
      "metadata": {
        "colab": {
          "base_uri": "https://localhost:8080/",
          "height": 447
        },
        "id": "CVT1lejox7pu",
        "outputId": "af9b0959-d6aa-4d2c-9cc1-676d852fa66e"
      },
      "execution_count": 7,
      "outputs": [
        {
          "output_type": "execute_result",
          "data": {
            "text/plain": [
              "<Axes: >"
            ]
          },
          "metadata": {},
          "execution_count": 7
        },
        {
          "output_type": "display_data",
          "data": {
            "text/plain": [
              "<Figure size 640x480 with 1 Axes>"
            ],
            "image/png": "[encoded data removed]"
          },
          "metadata": {}
        }
      ]
    },
    {
      "cell_type": "code",
      "source": [
        "# Evaluar el modelo en entrenamiento y prueba\n",
        "# Esto proporciona la pérdida y la precisión del modelo\n",
        "\n",
        "# Evaluar el modelo en el conjunto de entrenamiento\n",
        "loss, accuracy = model.evaluate(training_images, training_labels)\n",
        "print(\"Pérdida en el conjunto de entrenamiento:\", loss)\n",
        "print(\"Precisión en el conjunto de entrenamiento:\", accuracy)\n",
        "\n",
        "# Evaluar el modelo con datos no vistos\n",
        "loss, accuracy = model.evaluate(test_images, test_labels)\n",
        "print(\"Pérdida en el conjunto de prueba:\", loss)\n",
        "print(\"Precisión en el conjunto de prueba:\", accuracy)"
      ],
      "metadata": {
        "colab": {
          "base_uri": "https://localhost:8080/"
        },
        "id": "hyiCTlEmyp9-",
        "outputId": "168b7c56-1396-43d8-e8c8-8bfe50f738d9"
      },
      "execution_count": 8,
      "outputs": [
        {
          "output_type": "stream",
          "name": "stdout",
          "text": [
            "1875/1875 [==============================] - 5s 3ms/step - loss: 0.2262 - accuracy: 0.9160\n",
            "Pérdida en el conjunto de entrenamiento: 0.22620569169521332\n",
            "Precisión en el conjunto de entrenamiento: 0.9160000085830688\n",
            "313/313 [==============================] - 1s 2ms/step - loss: 0.3390 - accuracy: 0.8829\n",
            "Pérdida en el conjunto de prueba: 0.3390117883682251\n",
            "Precisión en el conjunto de prueba: 0.8828999996185303\n"
          ]
        }
      ]
    },
    {
      "cell_type": "code",
      "source": [
        "# Predicción de una muestra, evaluando el modelo con datos no vistos\n",
        "# Imprime la etiqueta real y la clasificación predicha\n",
        "index = 1\n",
        "print(f'Label: {test_labels[index]}')\n",
        "classification = model.predict(test_images[index:index+1])\n",
        "print(f'Classification:\\n {classification.reshape(-1,1)}')"
      ],
      "metadata": {
        "colab": {
          "base_uri": "https://localhost:8080/"
        },
        "id": "p4YqlKN6zZUO",
        "outputId": "4e479ef1-be6a-4a44-ad84-e9ea586c8578"
      },
      "execution_count": 9,
      "outputs": [
        {
          "output_type": "stream",
          "name": "stdout",
          "text": [
            "Label: 2\n",
            "1/1 [==============================] - 0s 95ms/step\n",
            "Classification:\n",
            " [[1.6537395e-04]\n",
            " [7.8619404e-15]\n",
            " [9.9938869e-01]\n",
            " [1.9339565e-11]\n",
            " [3.3069443e-04]\n",
            " [1.8420803e-12]\n",
            " [1.1520216e-04]\n",
            " [1.2850431e-15]\n",
            " [3.0834627e-12]\n",
            " [6.8331557e-14]]\n"
          ]
        }
      ]
    },
    {
      "cell_type": "code",
      "source": [
        "# Seleccionar una muestra del conjunto de prueba\n",
        "sample_index = 0  # Puedes cambiar este índice para probar diferentes muestras\n",
        "sample_image = test_images[sample_index]\n",
        "sample_label = test_labels[sample_index]\n",
        "\n",
        "# Realizar la predicción utilizando el modelo entrenado\n",
        "predictions = model.predict(np.array([sample_image]))\n",
        "predicted_label = np.argmax(predictions[0])\n",
        "\n",
        "# Imprimir la etiqueta real y la predicción\n",
        "print(f'Etiqueta real: {sample_label}')\n",
        "print(f'Predicción del modelo: {predicted_label}')\n",
        "\n",
        "# Visualizar la muestra\n",
        "plt.imshow(sample_image, cmap=plt.cm.binary)\n",
        "plt.title(f'Etiqueta real: {sample_label} - Predicción: {predicted_label}')\n",
        "plt.show()\n"
      ],
      "metadata": {
        "colab": {
          "base_uri": "https://localhost:8080/",
          "height": 505
        },
        "id": "hkZcirRAzys9",
        "outputId": "9cb8dfe5-448e-433a-823c-a5f82c083a1b"
      },
      "execution_count": 10,
      "outputs": [
        {
          "output_type": "stream",
          "name": "stdout",
          "text": [
            "1/1 [==============================] - 0s 22ms/step\n",
            "Etiqueta real: 9\n",
            "Predicción del modelo: 9\n"
          ]
        },
        {
          "output_type": "display_data",
          "data": {
            "text/plain": [
              "<Figure size 640x480 with 1 Axes>"
            ],
            "image/png": "[encoded data removed]"
          },
          "metadata": {}
        }
      ]
    },
    {
      "cell_type": "code",
      "source": [
        "# Otro ejemplo con otra muestra\n",
        "# Seleccionar una muestra aleatoria del conjunto de prueba\n",
        "import random\n",
        "random_index = random.randint(0, len(test_images) - 1)\n",
        "sample_image = test_images[random_index]\n",
        "sample_label = test_labels[random_index]\n",
        "\n",
        "# Realizar la predicción utilizando el modelo entrenado\n",
        "predictions = model.predict(np.array([sample_image]))\n",
        "predicted_label = np.argmax(predictions[0])\n",
        "\n",
        "# Imprimir la etiqueta real y la predicción\n",
        "print(f'Etiqueta real: {sample_label}')\n",
        "print(f'Predicción del modelo: {predicted_label}')\n",
        "\n",
        "# Visualizar la muestra\n",
        "plt.imshow(sample_image, cmap=plt.cm.binary)\n",
        "plt.title(f'Etiqueta real: {sample_label} - Predicción: {predicted_label}')\n",
        "plt.show()\n"
      ],
      "metadata": {
        "colab": {
          "base_uri": "https://localhost:8080/",
          "height": 505
        },
        "id": "DjCQoOyl1hIP",
        "outputId": "8cd56102-3c6b-46ce-b8af-3c205dc4b1d4"
      },
      "execution_count": 11,
      "outputs": [
        {
          "output_type": "stream",
          "name": "stdout",
          "text": [
            "1/1 [==============================] - 0s 23ms/step\n",
            "Etiqueta real: 6\n",
            "Predicción del modelo: 4\n"
          ]
        },
        {
          "output_type": "display_data",
          "data": {
            "text/plain": [
              "<Figure size 640x480 with 1 Axes>"
            ],
            "image/png": "[encoded data removed]"
          },
          "metadata": {}
        }
      ]
    },
    {
      "cell_type": "markdown",
      "source": [
        "## Preguntas de comprensión:"
      ],
      "metadata": {
        "id": "axP-vuQaz-wL"
      }
    },
    {
      "cell_type": "markdown",
      "source": [
        "1. **¿Qué conjunto de datos se utiliza y qué problema de aprendizaje automático se aborda?**\n",
        ">> Se utiliza el conjunto de datos Fashion MNIST (imágenes de prendas de vestir). El problema de aprendizaje automático que se aborda es un problema de clasificación de imágenes, donde el objetivo es clasificar cada imagen en una de las 10 categorías posibles especificadas al comienzo de este notebook.\n",
        "\n",
        "2. **¿Por qué es importante normalizar los valores de píxeles?**\n",
        ">> La normalización de los valores de píxeles (escalar los valores al rango [0, 1]) es importante porque facilita el entrenamiento del modelo.\n",
        "\n",
        "3. **¿Qué arquitectura de red neuronal se utiliza y cuántas capas tiene?**\n",
        ">> La arquitectura de la red neuronal utilizada en este código es una red neuronal completamente conectada o perceptrón multicapa (MLP). Tiene tres capas en total: una capa de aplanamiento (Flatten) que convierte la imagen 2D en un vector 1D; una capa densa (Dense) con 128 neuronas y función de activación relu; una capa densa (Dense) de salida con 10 neuronas y función de activación softmax.\n",
        "\n",
        "4. **¿Cuáles son las funciones de activación utilizadas en la capa oculta y en la capa de salida, y por qué?**\n",
        ">> En la capa oculta, se utiliza la función de activación ReLU, porque introduce no linealidad en el modelo y ayuda a resolver el problema del desvanecimiento del gradiente, permitiendo que el modelo aprenda representaciones complejas.\n",
        "En la capa de salida, se utiliza la función de activación softmax, porque convierte los valores de salida en probabilidades, facilitando la clasificación en una de las 10 categorías.\n",
        "\n",
        "5. **¿Qué función de pérdida se utiliza y qué métricas se evalúan?**\n",
        ">> La función de pérdida utilizada es sparse_categorical_crossentropy, que es adecuada para problemas de clasificación con etiquetas categóricas enteras y la métrica utilizada para evaluar el rendimiento del modelo es accuracy (precisión), que mide la proporción de predicciones correctas.\n",
        "\n",
        "6. **¿Cuántas épocas se utilizan para entrenar el modelo y por qué?**\n",
        ">> Se utilizan 10 épocas para entrenar el modelo, porque ayuda a evitar tanto el subajuste como el sobreajuste.\n",
        "\n",
        "7. **¿Qué significa model.summary() y qué información proporciona?**\n",
        ">> La función model.summary() imprime un resumen detallado del modelo: arquitectura del modelo, tipo y número de capas, forma de salida de cada capa, número de parámetros entrenables en cada capa y en total, por ejemplo."
      ],
      "metadata": {
        "id": "LLe_a5LRsMuu"
      }
    },
    {
      "cell_type": "markdown",
      "source": [
        "## Ejercicios de exploración"
      ],
      "metadata": {
        "id": "rVec9apn7TXo"
      }
    },
    {
      "cell_type": "markdown",
      "source": [
        "#### Ejecuta la red con una muestra y observa que el resultado es una lista de números. Reflexiona sobre por qué es así y qué representan esos números:\n",
        "> Los números en la lista de predicciones representan las probabilidades asignadas a cada una de las 10 posibles clases del dataset. La clase con la mayor probabilidad es la predicción del modelo para esa imagen en específico.\n",
        "\n"
      ],
      "metadata": {
        "id": "kv1SuQJVw8k8"
      }
    },
    {
      "cell_type": "code",
      "source": [
        "# Seleccionar una muestra del conjunto de prueba\n",
        "sample_index = 1  # Puedes cambiar este índice para probar diferentes muestras\n",
        "sample_image = test_images[sample_index]\n",
        "sample_label = test_labels[sample_index]\n",
        "\n",
        "# Realizar la predicción utilizando el modelo entrenado\n",
        "predictions = model.predict(np.array([sample_image]))\n",
        "predicted_label = np.argmax(predictions[0])\n",
        "\n",
        "# Imprimir la etiqueta real y la predicción\n",
        "print(f'Etiqueta real: {sample_label}')\n",
        "print(f'Predicción del modelo: {predicted_label}')\n",
        "print(f'Predicciones: {predictions[0]}')\n",
        "\n",
        "# Visualizar la muestra\n",
        "plt.imshow(sample_image, cmap=plt.cm.binary)\n",
        "plt.title(f'Etiqueta real: {sample_label} - Predicción: {predicted_label}')\n",
        "plt.show()"
      ],
      "metadata": {
        "colab": {
          "base_uri": "https://localhost:8080/",
          "height": 542
        },
        "id": "PHM11FTDw-_k",
        "outputId": "7f215cc3-a0cf-49d0-a8d1-ec84c60f2a6c"
      },
      "execution_count": 12,
      "outputs": [
        {
          "output_type": "stream",
          "name": "stdout",
          "text": [
            "1/1 [==============================] - 0s 25ms/step\n",
            "Etiqueta real: 2\n",
            "Predicción del modelo: 2\n",
            "Predicciones: [1.6537395e-04 7.8619404e-15 9.9938869e-01 1.9339565e-11 3.3069443e-04 1.8420803e-12 1.1520216e-04 1.2850431e-15 3.0834627e-12 6.8331557e-14]\n"
          ]
        },
        {
          "output_type": "display_data",
          "data": {
            "text/plain": [
              "<Figure size 640x480 with 1 Axes>"
            ],
            "image/png": "[encoded data removed]"
          },
          "metadata": {}
        }
      ]
    },
    {
      "cell_type": "markdown",
      "source": [
        "#### Examina las capas de tu modelo y experimenta con diferentes valores para la capa densa como 256 neuronas. Observa cómo varían los resultados en términos de pérdida, tiempo de entrenamiento, etc. Reflexiona sobre por qué ocurre esto:\n"
      ],
      "metadata": {
        "id": "Qy0NVf8WxUFE"
      }
    },
    {
      "cell_type": "code",
      "source": [
        "# Construir un nuevo modelo secuencial con 256 neuronas en la capa densa\n",
        "model = keras.models.Sequential([\n",
        "  keras.layers.Flatten(input_shape=(28, 28)),\n",
        "  keras.layers.Dense(256, activation='relu'),  # Cambiado de 128 a 256 neuronas\n",
        "  keras.layers.Dense(10, activation='softmax')\n",
        "])\n",
        "\n",
        "# Compilar el modelo\n",
        "model.compile(optimizer='adam',\n",
        "              loss='sparse_categorical_crossentropy',\n",
        "              metrics=['accuracy'])\n",
        "\n",
        "# Entrenar el modelo con los datos de entrenamiento\n",
        "history = model.fit(training_images, training_labels, epochs=10)\n",
        "\n",
        "# Evaluar el modelo con datos de prueba\n",
        "loss, accuracy = model.evaluate(test_images, test_labels)\n",
        "print(\"Pérdida en el conjunto de prueba:\", loss)\n",
        "print(\"Precisión en el conjunto de prueba:\", accuracy)"
      ],
      "metadata": {
        "colab": {
          "base_uri": "https://localhost:8080/"
        },
        "id": "WqlaXvnbxb1n",
        "outputId": "3cb54395-6e97-437a-8413-944f39466bbb"
      },
      "execution_count": 13,
      "outputs": [
        {
          "output_type": "stream",
          "name": "stdout",
          "text": [
            "Epoch 1/10\n",
            "1875/1875 [==============================] - 11s 5ms/step - loss: 0.4805 - accuracy: 0.8315\n",
            "Epoch 2/10\n",
            "1875/1875 [==============================] - 11s 6ms/step - loss: 0.3614 - accuracy: 0.8693\n",
            "Epoch 3/10\n",
            "1875/1875 [==============================] - 9s 5ms/step - loss: 0.3253 - accuracy: 0.8792\n",
            "Epoch 4/10\n",
            "1875/1875 [==============================] - 10s 5ms/step - loss: 0.3030 - accuracy: 0.8883\n",
            "Epoch 5/10\n",
            "1875/1875 [==============================] - 10s 5ms/step - loss: 0.2866 - accuracy: 0.8936\n",
            "Epoch 6/10\n",
            "1875/1875 [==============================] - 10s 5ms/step - loss: 0.2697 - accuracy: 0.8988\n",
            "Epoch 7/10\n",
            "1875/1875 [==============================] - 10s 5ms/step - loss: 0.2554 - accuracy: 0.9045\n",
            "Epoch 8/10\n",
            "1875/1875 [==============================] - 10s 5ms/step - loss: 0.2469 - accuracy: 0.9076\n",
            "Epoch 9/10\n",
            "1875/1875 [==============================] - 10s 5ms/step - loss: 0.2371 - accuracy: 0.9120\n",
            "Epoch 10/10\n",
            "1875/1875 [==============================] - 9s 5ms/step - loss: 0.2277 - accuracy: 0.9145\n",
            "313/313 [==============================] - 1s 4ms/step - loss: 0.3503 - accuracy: 0.8825\n",
            "Pérdida en el conjunto de prueba: 0.35025861859321594\n",
            "Precisión en el conjunto de prueba: 0.8824999928474426\n"
          ]
        }
      ]
    },
    {
      "cell_type": "markdown",
      "source": [
        "#### Eliminar la capa Flatten:"
      ],
      "metadata": {
        "id": "SPgS4CSTuj_1"
      }
    },
    {
      "cell_type": "markdown",
      "source": [
        " La capa Flatten() convierte la entrada 2D (28x28 píxeles) en un vector 1D. Sin esta capa, la siguiente capa densa no podría procesar la entrada, ya que sabemos que el modelo está esperando un vector 1D en lugar de una matriz 2D. Por tal razón, el modelo no funcionaría, pues no sería capaz de aprender y entrenarse correctamente a partir de las imágenes.\n",
        "\n"
      ],
      "metadata": {
        "id": "1ZxsWNUbvIdd"
      }
    },
    {
      "cell_type": "markdown",
      "source": [
        "#### Considera las capas finales (de salida). ¿Por qué hay 10 de ellas? ¿Qué pasaría si tuvieras una cantidad diferente a 10? Intenta entrenar la red con un número diferente de capas finales y reflexiona sobre cómo afectaría esto a la capacidad de clasificación del modelo:"
      ],
      "metadata": {
        "id": "8JlhFjzpyMvz"
      }
    },
    {
      "cell_type": "code",
      "source": [
        "'''\n",
        "Como no se pueden cambiar las neuronas en la capa de salida, una posible solución\n",
        "es cambiando las neuronas pero en alguna de las capas ocultas.\n",
        "'''\n",
        "# Construir un nuevo modelo secuencial con un número diferente de neuronas en la capa oculta\n",
        "model = keras.models.Sequential([\n",
        "  keras.layers.Flatten(input_shape=(28, 28)),\n",
        "  keras.layers.Dense(64, activation='relu'),  # Cambiado de 128 a 64 neuronas\n",
        "  keras.layers.Dense(10, activation='softmax')  # Mantener 10 neuronas para 10 clases\n",
        "])\n",
        "\n",
        "# Compilar el modelo\n",
        "model.compile(optimizer='adam',\n",
        "              loss='sparse_categorical_crossentropy',\n",
        "              metrics=['accuracy'])\n",
        "\n",
        "# Entrenar el modelo con los datos de entrenamiento\n",
        "history = model.fit(training_images, training_labels, epochs=10)\n",
        "\n",
        "# Evaluar el modelo con datos de prueba\n",
        "loss, accuracy = model.evaluate(test_images, test_labels)\n",
        "print(\"Pérdida en el conjunto de prueba:\", loss)\n",
        "print(\"Precisión en el conjunto de prueba:\", accuracy)\n",
        "\n",
        "# Graficar historial de entrenamiento usando pandas para convertirlo a DataFrame\n",
        "pd.DataFrame(history.history).plot(grid=True)\n",
        "plt.show()"
      ],
      "metadata": {
        "colab": {
          "base_uri": "https://localhost:8080/",
          "height": 829
        },
        "id": "gX3XSo9HyiOF",
        "outputId": "11e5583d-c19d-453a-886a-73c39dc9177f"
      },
      "execution_count": 14,
      "outputs": [
        {
          "output_type": "stream",
          "name": "stdout",
          "text": [
            "Epoch 1/10\n",
            "1875/1875 [==============================] - 6s 2ms/step - loss: 0.5079 - accuracy: 0.8230\n",
            "Epoch 2/10\n",
            "1875/1875 [==============================] - 5s 2ms/step - loss: 0.3865 - accuracy: 0.8606\n",
            "Epoch 3/10\n",
            "1875/1875 [==============================] - 6s 3ms/step - loss: 0.3528 - accuracy: 0.8724\n",
            "Epoch 4/10\n",
            "1875/1875 [==============================] - 5s 2ms/step - loss: 0.3265 - accuracy: 0.8822\n",
            "Epoch 5/10\n",
            "1875/1875 [==============================] - 6s 3ms/step - loss: 0.3104 - accuracy: 0.8863\n",
            "Epoch 6/10\n",
            "1875/1875 [==============================] - 5s 3ms/step - loss: 0.2976 - accuracy: 0.8898\n",
            "Epoch 7/10\n",
            "1875/1875 [==============================] - 5s 2ms/step - loss: 0.2859 - accuracy: 0.8946\n",
            "Epoch 8/10\n",
            "1875/1875 [==============================] - 6s 3ms/step - loss: 0.2760 - accuracy: 0.8979\n",
            "Epoch 9/10\n",
            "1875/1875 [==============================] - 5s 2ms/step - loss: 0.2665 - accuracy: 0.9012\n",
            "Epoch 10/10\n",
            "1875/1875 [==============================] - 5s 3ms/step - loss: 0.2603 - accuracy: 0.9044\n",
            "313/313 [==============================] - 1s 3ms/step - loss: 0.3433 - accuracy: 0.8792\n",
            "Pérdida en el conjunto de prueba: 0.3432612419128418\n",
            "Precisión en el conjunto de prueba: 0.8791999816894531\n"
          ]
        },
        {
          "output_type": "display_data",
          "data": {
            "text/plain": [
              "<Figure size 640x480 with 1 Axes>"
            ],
            "image/png": "[encoded data removed]"
          },
          "metadata": {}
        }
      ]
    },
    {
      "cell_type": "markdown",
      "source": [
        "La capa de salida tiene 10 neuronas porque hay 10 clases (categorías) diferentes en el dataset. Si cambiamos el número de neuronas en la capa de salida, el modelo ya no puede clasificar correctamente las imágenes en las 10 categorías originales. Cada neurona en la capa de salida representa una categoría y la salida de la neurona es la probabilidad de que la entrada pertenezca a esa categoría.\n"
      ],
      "metadata": {
        "id": "v6Jkcfrrzaat"
      }
    },
    {
      "cell_type": "markdown",
      "source": [
        "#### Explora los efectos de añadir otra capa entre la capa con 256 neuronas y la capa final con 10. Observa cómo esto podría afectar la capacidad del modelo para capturar características complejas de los datos de entrada y cómo afecta el rendimiento general del modelo:\n",
        "\n"
      ],
      "metadata": {
        "id": "69IVIQQXz7x7"
      }
    },
    {
      "cell_type": "code",
      "source": [
        "# Construir un nuevo modelo secuencial con una capa adicional\n",
        "model = keras.models.Sequential([\n",
        "  keras.layers.Flatten(input_shape=(28, 28)),\n",
        "  keras.layers.Dense(256, activation='relu'),  # Primera capa con 256 neuronas\n",
        "  keras.layers.Dense(128, activation='relu'),  # Nueva capa añadida con 128 neuronas\n",
        "  keras.layers.Dense(10, activation='softmax')\n",
        "])\n",
        "\n",
        "# Compilar el modelo\n",
        "model.compile(optimizer='adam',\n",
        "              loss='sparse_categorical_crossentropy',\n",
        "              metrics=['accuracy'])\n",
        "\n",
        "# Entrenar el modelo con los datos de entrenamiento\n",
        "history = model.fit(training_images, training_labels, epochs=10)\n",
        "\n",
        "# Evaluar el modelo con datos de prueba\n",
        "loss, accuracy = model.evaluate(test_images, test_labels)\n",
        "print(\"Pérdida en el conjunto de prueba:\", loss)\n",
        "print(\"Precisión en el conjunto de prueba:\", accuracy)\n",
        "\n",
        "# Graficar historial de entrenamiento usando pandas para convertirlo a DataFrame\n",
        "pd.DataFrame(history.history).plot(grid=True)\n",
        "plt.show()"
      ],
      "metadata": {
        "colab": {
          "base_uri": "https://localhost:8080/",
          "height": 829
        },
        "id": "k8xF_sf6y9IM",
        "outputId": "8b85f277-47a8-4b40-b8e1-bbef016b658d"
      },
      "execution_count": 15,
      "outputs": [
        {
          "output_type": "stream",
          "name": "stdout",
          "text": [
            "Epoch 1/10\n",
            "1875/1875 [==============================] - 11s 5ms/step - loss: 0.4760 - accuracy: 0.8294\n",
            "Epoch 2/10\n",
            "1875/1875 [==============================] - 10s 5ms/step - loss: 0.3600 - accuracy: 0.8681\n",
            "Epoch 3/10\n",
            "1875/1875 [==============================] - 11s 6ms/step - loss: 0.3237 - accuracy: 0.8795\n",
            "Epoch 4/10\n",
            "1875/1875 [==============================] - 11s 6ms/step - loss: 0.3001 - accuracy: 0.8875\n",
            "Epoch 5/10\n",
            "1875/1875 [==============================] - 11s 6ms/step - loss: 0.2835 - accuracy: 0.8945\n",
            "Epoch 6/10\n",
            "1875/1875 [==============================] - 9s 5ms/step - loss: 0.2684 - accuracy: 0.8983\n",
            "Epoch 7/10\n",
            "1875/1875 [==============================] - 11s 6ms/step - loss: 0.2542 - accuracy: 0.9033\n",
            "Epoch 8/10\n",
            "1875/1875 [==============================] - 11s 6ms/step - loss: 0.2439 - accuracy: 0.9081\n",
            "Epoch 9/10\n",
            "1875/1875 [==============================] - 11s 6ms/step - loss: 0.2347 - accuracy: 0.9109\n",
            "Epoch 10/10\n",
            "1875/1875 [==============================] - 10s 6ms/step - loss: 0.2245 - accuracy: 0.9144\n",
            "313/313 [==============================] - 1s 2ms/step - loss: 0.3531 - accuracy: 0.8811\n",
            "Pérdida en el conjunto de prueba: 0.35308048129081726\n",
            "Precisión en el conjunto de prueba: 0.8810999989509583\n"
          ]
        },
        {
          "output_type": "display_data",
          "data": {
            "text/plain": [
              "<Figure size 640x480 with 1 Axes>"
            ],
            "image/png": "[encoded data removed]"
          },
          "metadata": {}
        }
      ]
    },
    {
      "cell_type": "markdown",
      "source": [
        "Añadir otra capa oculta puede aumentar la capacidad del modelo para aprender representaciones más complejas; sin embargo, esto también puede incrementar el tiempo de entrenamiento."
      ],
      "metadata": {
        "id": "SbonSRhL1Hk8"
      }
    },
    {
      "cell_type": "markdown",
      "source": [
        "####  Considera el impacto de entrenar durante más o menos épocas. Experimenta con diferentes números de épocas y reflexiona sobre cómo esto afecta la mejora del modelo en términos de pérdida y precisión:"
      ],
      "metadata": {
        "id": "aTyHKmnd1MYc"
      }
    },
    {
      "cell_type": "code",
      "source": [
        "# Entrenar el modelo con un número menor de épocas\n",
        "history_short = model.fit(training_images, training_labels, epochs=5)\n",
        "\n",
        "# Evaluar el modelo con datos de prueba después de menos épocas\n",
        "loss, accuracy = model.evaluate(test_images, test_labels)\n",
        "print(f\"Pérdida en el conjunto de prueba después de 5 épocas: {loss:.4f}\")\n",
        "print(f\"Precisión en el conjunto de prueba después de 5 épocas: {accuracy:.4f}\")\n",
        "\n",
        "# Entrenar el modelo con un número mayor de épocas\n",
        "history_long = model.fit(training_images, training_labels, epochs=15)\n",
        "\n",
        "# Evaluar el modelo con datos de prueba después de más épocas\n",
        "loss, accuracy = model.evaluate(test_images, test_labels)\n",
        "print(f\"Pérdida en el conjunto de prueba después de 5 épocas: {loss:.4f}\")\n",
        "print(f\"Precisión en el conjunto de prueba después de 5 épocas: {accuracy:.4f}\")"
      ],
      "metadata": {
        "colab": {
          "base_uri": "https://localhost:8080/"
        },
        "id": "_x6wbLke0UCg",
        "outputId": "2a93fe2b-0797-4349-cc2a-2c7bed1c42de"
      },
      "execution_count": 16,
      "outputs": [
        {
          "output_type": "stream",
          "name": "stdout",
          "text": [
            "Epoch 1/5\n",
            "1875/1875 [==============================] - 15s 8ms/step - loss: 0.2157 - accuracy: 0.9183\n",
            "Epoch 2/5\n",
            "1875/1875 [==============================] - 11s 6ms/step - loss: 0.2073 - accuracy: 0.9201\n",
            "Epoch 3/5\n",
            "1875/1875 [==============================] - 10s 5ms/step - loss: 0.1992 - accuracy: 0.9223\n",
            "Epoch 4/5\n",
            "1875/1875 [==============================] - 10s 6ms/step - loss: 0.1944 - accuracy: 0.9254\n",
            "Epoch 5/5\n",
            "1875/1875 [==============================] - 11s 6ms/step - loss: 0.1889 - accuracy: 0.9273\n",
            "313/313 [==============================] - 1s 3ms/step - loss: 0.3555 - accuracy: 0.8882\n",
            "Pérdida en el conjunto de prueba después de 5 épocas: 0.3555\n",
            "Precisión en el conjunto de prueba después de 5 épocas: 0.8882\n",
            "Epoch 1/15\n",
            "1875/1875 [==============================] - 11s 6ms/step - loss: 0.1808 - accuracy: 0.9302\n",
            "Epoch 2/15\n",
            "1875/1875 [==============================] - 11s 6ms/step - loss: 0.1763 - accuracy: 0.9318\n",
            "Epoch 3/15\n",
            "1875/1875 [==============================] - 11s 6ms/step - loss: 0.1696 - accuracy: 0.9340\n",
            "Epoch 4/15\n",
            "1875/1875 [==============================] - 10s 6ms/step - loss: 0.1667 - accuracy: 0.9367\n",
            "Epoch 5/15\n",
            "1875/1875 [==============================] - 10s 5ms/step - loss: 0.1586 - accuracy: 0.9402\n",
            "Epoch 6/15\n",
            "1875/1875 [==============================] - 11s 6ms/step - loss: 0.1558 - accuracy: 0.9403\n",
            "Epoch 7/15\n",
            "1875/1875 [==============================] - 11s 6ms/step - loss: 0.1521 - accuracy: 0.9413\n",
            "Epoch 8/15\n",
            "1875/1875 [==============================] - 11s 6ms/step - loss: 0.1469 - accuracy: 0.9429\n",
            "Epoch 9/15\n",
            "1875/1875 [==============================] - 10s 5ms/step - loss: 0.1435 - accuracy: 0.9441\n",
            "Epoch 10/15\n",
            "1875/1875 [==============================] - 11s 6ms/step - loss: 0.1402 - accuracy: 0.9465\n",
            "Epoch 11/15\n",
            "1875/1875 [==============================] - 11s 6ms/step - loss: 0.1354 - accuracy: 0.9473\n",
            "Epoch 12/15\n",
            "1875/1875 [==============================] - 11s 6ms/step - loss: 0.1328 - accuracy: 0.9491\n",
            "Epoch 13/15\n",
            "1875/1875 [==============================] - 11s 6ms/step - loss: 0.1305 - accuracy: 0.9491\n",
            "Epoch 14/15\n",
            "1875/1875 [==============================] - 9s 5ms/step - loss: 0.1250 - accuracy: 0.9514\n",
            "Epoch 15/15\n",
            "1875/1875 [==============================] - 11s 6ms/step - loss: 0.1238 - accuracy: 0.9519\n",
            "313/313 [==============================] - 1s 2ms/step - loss: 0.4823 - accuracy: 0.8931\n",
            "Pérdida en el conjunto de prueba después de 5 épocas: 0.4823\n",
            "Precisión en el conjunto de prueba después de 5 épocas: 0.8931\n"
          ]
        }
      ]
    },
    {
      "cell_type": "markdown",
      "source": [
        "Entrenar el modelo durante más épocas generalmente mejora la precisión, pero también aumenta el riesgo de sobreajuste. Entrenar durante menos épocas puede resultar en un modelo que no ha aprendido adecuadamente los patrones de los datos de entrada.\n",
        "\n"
      ],
      "metadata": {
        "id": "jgdRLRI615qU"
      }
    },
    {
      "cell_type": "markdown",
      "source": [
        "#### Reflexiona sobre el impacto de eliminar la normalización de los datos antes del entrenamiento. Ejecuta el código sin normalización y observa cómo difieren los resultados:"
      ],
      "metadata": {
        "id": "0gIIyKz-1_r9"
      }
    },
    {
      "cell_type": "code",
      "source": [
        "# Cargar el conjunto de datos Fashion MNIST sin normalizar\n",
        "(training_images_raw, training_labels_raw), (test_images_raw, test_labels_raw) = fmnist.load_data()\n",
        "\n",
        "# Construir un nuevo modelo secuencial sin normalización de datos\n",
        "model_raw = keras.models.Sequential([\n",
        "  keras.layers.Flatten(input_shape=(28, 28)),\n",
        "  keras.layers.Dense(128, activation='relu'),\n",
        "  keras.layers.Dense(10, activation='softmax')\n",
        "])\n",
        "\n",
        "# Compilar el modelo\n",
        "model_raw.compile(optimizer='adam',\n",
        "                  loss='sparse_categorical_crossentropy',\n",
        "                  metrics=['accuracy'])\n",
        "\n",
        "# Entrenar el modelo con los datos de entrenamiento sin normalización\n",
        "history_raw = model_raw.fit(training_images_raw, training_labels_raw, epochs=10)\n",
        "\n",
        "# Evaluar el modelo con datos de prueba sin normalización\n",
        "loss, accuracy = model_raw.evaluate(test_images_raw, test_labels_raw)\n",
        "print(\"Pérdida en el conjunto de prueba sin normalización:\", loss)\n",
        "print(\"Precisión en el conjunto de prueba sin normalización:\", accuracy)"
      ],
      "metadata": {
        "colab": {
          "base_uri": "https://localhost:8080/"
        },
        "id": "uygtk99A1RM-",
        "outputId": "5e6bd286-fca3-41d0-9664-9bd813742d8f"
      },
      "execution_count": 17,
      "outputs": [
        {
          "output_type": "stream",
          "name": "stdout",
          "text": [
            "Epoch 1/10\n",
            "1875/1875 [==============================] - 9s 4ms/step - loss: 2.8233 - accuracy: 0.6826\n",
            "Epoch 2/10\n",
            "1875/1875 [==============================] - 6s 3ms/step - loss: 0.6709 - accuracy: 0.7645\n",
            "Epoch 3/10\n",
            "1875/1875 [==============================] - 8s 4ms/step - loss: 0.5712 - accuracy: 0.8000\n",
            "Epoch 4/10\n",
            "1875/1875 [==============================] - 7s 4ms/step - loss: 0.5406 - accuracy: 0.8092\n",
            "Epoch 5/10\n",
            "1875/1875 [==============================] - 8s 4ms/step - loss: 0.5153 - accuracy: 0.8194\n",
            "Epoch 6/10\n",
            "1875/1875 [==============================] - 7s 4ms/step - loss: 0.4989 - accuracy: 0.8272\n",
            "Epoch 7/10\n",
            "1875/1875 [==============================] - 8s 4ms/step - loss: 0.4939 - accuracy: 0.8322\n",
            "Epoch 8/10\n",
            "1875/1875 [==============================] - 8s 4ms/step - loss: 0.4837 - accuracy: 0.8341\n",
            "Epoch 9/10\n",
            "1875/1875 [==============================] - 7s 4ms/step - loss: 0.4737 - accuracy: 0.8401\n",
            "Epoch 10/10\n",
            "1875/1875 [==============================] - 8s 4ms/step - loss: 0.4734 - accuracy: 0.8404\n",
            "313/313 [==============================] - 1s 2ms/step - loss: 0.6005 - accuracy: 0.8157\n",
            "Pérdida en el conjunto de prueba sin normalización: 0.6004653573036194\n",
            "Precisión en el conjunto de prueba sin normalización: 0.8156999945640564\n"
          ]
        }
      ]
    },
    {
      "cell_type": "markdown",
      "source": [
        "Sin normalización, los valores de los píxeles pueden ser demasiado grandes, lo que puede llevar a un proceso de entrenamiento inestable y a un rendimiento ineficaz del modelo. La normalización convierte los valores de los píxeles en un rango más manejable, mejorando así la eficacia del entrenamiento."
      ],
      "metadata": {
        "id": "lluntJZ22K9m"
      }
    },
    {
      "cell_type": "code",
      "source": [],
      "metadata": {
        "id": "7BF27pi42MyE"
      },
      "execution_count": 17,
      "outputs": []
    }
  ]
}