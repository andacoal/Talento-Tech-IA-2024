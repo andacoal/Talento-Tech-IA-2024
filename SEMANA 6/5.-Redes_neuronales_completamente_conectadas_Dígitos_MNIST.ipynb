{
  "nbformat": 4,
  "nbformat_minor": 0,
  "metadata": {
    "colab": {
      "provenance": []
    },
    "kernelspec": {
      "name": "python3",
      "display_name": "Python 3"
    },
    "language_info": {
      "name": "python"
    }
  },
  "cells": [
    {
      "cell_type": "markdown",
      "source": [
        "# Actividad\n",
        "Redes neuronales completamente conectadas\n",
        "aplicadas en MNIST reconocimiento de dígitos\n",
        "manuscritos."
      ],
      "metadata": {
        "id": "Z5k-MkXt-jJ4"
      }
    },
    {
      "cell_type": "markdown",
      "source": [
        "\n",
        "\n",
        "---\n",
        "Por: Ángela Daniela Córdoba Álvarez\n",
        "\n",
        "\n",
        "---\n",
        "\n",
        "\n"
      ],
      "metadata": {
        "id": "yShWFxI_-pzX"
      }
    },
    {
      "cell_type": "markdown",
      "source": [
        "En este caso se trata el conjunto de datos MNIST (Modified National Institute of Standards and Technology) sobre imágenes que contiene dígitos escritos a manos. El conjunto de datos MNIST consiste en un total de 70,000 imágenes en escala de grises de\n",
        "28x28 píxeles. Estas imágenes están divididas en dos conjuntos: uno de entrenamiento, que\n",
        "contiene 60,000 imágenes, y otro de prueba, que contiene 10,000 imágenes. Cada imagen\n",
        "representa un único dígito del 0 al 9."
      ],
      "metadata": {
        "id": "fWSb18ZsvjjA"
      }
    },
    {
      "cell_type": "code",
      "execution_count": 1,
      "metadata": {
        "id": "dUZKTF0n-bp4",
        "colab": {
          "base_uri": "https://localhost:8080/"
        },
        "outputId": "8baa5d85-f92a-440b-e49c-c96724ca9863"
      },
      "outputs": [
        {
          "output_type": "stream",
          "name": "stdout",
          "text": [
            "Downloading data from https://storage.googleapis.com/tensorflow/tf-keras-datasets/mnist.npz\n",
            "11490434/11490434 [==============================] - 1s 0us/step\n"
          ]
        }
      ],
      "source": [
        "import keras\n",
        "# Cargar el conjunto de datos MNIST\n",
        "mnist = keras.datasets.mnist\n",
        "# Cargar la división de entrenamiento y prueba del conjunto de datos MNIST\n",
        "(training_images, training_labels), (test_images, test_labels) = mnist.load_data()"
      ]
    },
    {
      "cell_type": "code",
      "source": [
        "# Visualización de una muestra, seleccionando un índice del conjunto\n",
        "import numpy as np\n",
        "import matplotlib.pyplot as plt\n",
        "index = 0\n",
        "np.set_printoptions(linewidth=320) # Imprimir la etiqueta e imagen\n",
        "print(f'Label: {training_labels[index]}')\n",
        "print(f'Image:\\n {training_images[index]}')\n",
        "# Visualizar la imagen\n",
        "plt.imshow(training_images[index])\n"
      ],
      "metadata": {
        "colab": {
          "base_uri": "https://localhost:8080/",
          "height": 968
        },
        "id": "NkMd7ZNgwPxu",
        "outputId": "48a97253-f70b-4832-ac8a-143aef791103"
      },
      "execution_count": 2,
      "outputs": [
        {
          "output_type": "stream",
          "name": "stdout",
          "text": [
            "Label: 5\n",
            "Image:\n",
            " [[  0   0   0   0   0   0   0   0   0   0   0   0   0   0   0   0   0   0   0   0   0   0   0   0   0   0   0   0]\n",
            " [  0   0   0   0   0   0   0   0   0   0   0   0   0   0   0   0   0   0   0   0   0   0   0   0   0   0   0   0]\n",
            " [  0   0   0   0   0   0   0   0   0   0   0   0   0   0   0   0   0   0   0   0   0   0   0   0   0   0   0   0]\n",
            " [  0   0   0   0   0   0   0   0   0   0   0   0   0   0   0   0   0   0   0   0   0   0   0   0   0   0   0   0]\n",
            " [  0   0   0   0   0   0   0   0   0   0   0   0   0   0   0   0   0   0   0   0   0   0   0   0   0   0   0   0]\n",
            " [  0   0   0   0   0   0   0   0   0   0   0   0   3  18  18  18 126 136 175  26 166 255 247 127   0   0   0   0]\n",
            " [  0   0   0   0   0   0   0   0  30  36  94 154 170 253 253 253 253 253 225 172 253 242 195  64   0   0   0   0]\n",
            " [  0   0   0   0   0   0   0  49 238 253 253 253 253 253 253 253 253 251  93  82  82  56  39   0   0   0   0   0]\n",
            " [  0   0   0   0   0   0   0  18 219 253 253 253 253 253 198 182 247 241   0   0   0   0   0   0   0   0   0   0]\n",
            " [  0   0   0   0   0   0   0   0  80 156 107 253 253 205  11   0  43 154   0   0   0   0   0   0   0   0   0   0]\n",
            " [  0   0   0   0   0   0   0   0   0  14   1 154 253  90   0   0   0   0   0   0   0   0   0   0   0   0   0   0]\n",
            " [  0   0   0   0   0   0   0   0   0   0   0 139 253 190   2   0   0   0   0   0   0   0   0   0   0   0   0   0]\n",
            " [  0   0   0   0   0   0   0   0   0   0   0  11 190 253  70   0   0   0   0   0   0   0   0   0   0   0   0   0]\n",
            " [  0   0   0   0   0   0   0   0   0   0   0   0  35 241 225 160 108   1   0   0   0   0   0   0   0   0   0   0]\n",
            " [  0   0   0   0   0   0   0   0   0   0   0   0   0  81 240 253 253 119  25   0   0   0   0   0   0   0   0   0]\n",
            " [  0   0   0   0   0   0   0   0   0   0   0   0   0   0  45 186 253 253 150  27   0   0   0   0   0   0   0   0]\n",
            " [  0   0   0   0   0   0   0   0   0   0   0   0   0   0   0  16  93 252 253 187   0   0   0   0   0   0   0   0]\n",
            " [  0   0   0   0   0   0   0   0   0   0   0   0   0   0   0   0   0 249 253 249  64   0   0   0   0   0   0   0]\n",
            " [  0   0   0   0   0   0   0   0   0   0   0   0   0   0  46 130 183 253 253 207   2   0   0   0   0   0   0   0]\n",
            " [  0   0   0   0   0   0   0   0   0   0   0   0  39 148 229 253 253 253 250 182   0   0   0   0   0   0   0   0]\n",
            " [  0   0   0   0   0   0   0   0   0   0  24 114 221 253 253 253 253 201  78   0   0   0   0   0   0   0   0   0]\n",
            " [  0   0   0   0   0   0   0   0  23  66 213 253 253 253 253 198  81   2   0   0   0   0   0   0   0   0   0   0]\n",
            " [  0   0   0   0   0   0  18 171 219 253 253 253 253 195  80   9   0   0   0   0   0   0   0   0   0   0   0   0]\n",
            " [  0   0   0   0  55 172 226 253 253 253 253 244 133  11   0   0   0   0   0   0   0   0   0   0   0   0   0   0]\n",
            " [  0   0   0   0 136 253 253 253 212 135 132  16   0   0   0   0   0   0   0   0   0   0   0   0   0   0   0   0]\n",
            " [  0   0   0   0   0   0   0   0   0   0   0   0   0   0   0   0   0   0   0   0   0   0   0   0   0   0   0   0]\n",
            " [  0   0   0   0   0   0   0   0   0   0   0   0   0   0   0   0   0   0   0   0   0   0   0   0   0   0   0   0]\n",
            " [  0   0   0   0   0   0   0   0   0   0   0   0   0   0   0   0   0   0   0   0   0   0   0   0   0   0   0   0]]\n"
          ]
        },
        {
          "output_type": "execute_result",
          "data": {
            "text/plain": [
              "<matplotlib.image.AxesImage at 0x7b9df7a81960>"
            ]
          },
          "metadata": {},
          "execution_count": 2
        },
        {
          "output_type": "display_data",
          "data": {
            "text/plain": [
              "<Figure size 640x480 with 1 Axes>"
            ],
            "image/png": "[encoded data removed]"
          },
          "metadata": {}
        }
      ]
    },
    {
      "cell_type": "code",
      "source": [
        "# Normalizar los valores de los datos de píxeles de las imágenes dividiendo por 255.0\n",
        "# Así los valores estarán dentro del rango [0,1]\n",
        "training_images = training_images / 255.0\n",
        "test_images = test_images / 255.0"
      ],
      "metadata": {
        "id": "P9fk0O3lw3QE"
      },
      "execution_count": 3,
      "outputs": []
    },
    {
      "cell_type": "code",
      "source": [
        "# Construir un modelo secuencial\n",
        "'''\n",
        "Consta de una capa de aplanamiento para convertir una imagen 2D en un vector 1D,\n",
        "junto con 2 capas completamente conectadas con una función de activación ReLU y\n",
        "una capa de salida softmax\n",
        "'''\n",
        "# Modelo de clasificación\n",
        "model = keras.models.Sequential([\n",
        "  keras.layers.Flatten(input_shape=(28, 28)),\n",
        "  keras.layers.Dense(128, activation='relu'),\n",
        "  keras.layers.Dense(10, activation='softmax')])"
      ],
      "metadata": {
        "id": "ORJXHlLqxGKl"
      },
      "execution_count": 4,
      "outputs": []
    },
    {
      "cell_type": "code",
      "source": [
        "# Compilar el modelo, especificando optimizador, función de pérdida y métricas\n",
        "model.compile(optimizer='adam',\n",
        "              loss='sparse_categorical_crossentropy',\n",
        "              metrics=['accuracy'])\n",
        "model.summary()"
      ],
      "metadata": {
        "colab": {
          "base_uri": "https://localhost:8080/"
        },
        "id": "Vbutjn39xnas",
        "outputId": "91422550-be00-4a8b-c184-f227e4a4ec38"
      },
      "execution_count": 5,
      "outputs": [
        {
          "output_type": "stream",
          "name": "stdout",
          "text": [
            "Model: \"sequential\"\n",
            "_________________________________________________________________\n",
            " Layer (type)                Output Shape              Param #   \n",
            "=================================================================\n",
            " flatten (Flatten)           (None, 784)               0         \n",
            "                                                                 \n",
            " dense (Dense)               (None, 128)               100480    \n",
            "                                                                 \n",
            " dense_1 (Dense)             (None, 10)                1290      \n",
            "                                                                 \n",
            "=================================================================\n",
            "Total params: 101770 (397.54 KB)\n",
            "Trainable params: 101770 (397.54 KB)\n",
            "Non-trainable params: 0 (0.00 Byte)\n",
            "_________________________________________________________________\n"
          ]
        }
      ]
    },
    {
      "cell_type": "code",
      "source": [
        "# Entrenar el modelo con los datos de entrenamiento especificando número de épocas\n",
        "history = model.fit(training_images, training_labels, epochs=10)"
      ],
      "metadata": {
        "colab": {
          "base_uri": "https://localhost:8080/"
        },
        "id": "y4X930SgxziP",
        "outputId": "95b0eff1-f7b2-482d-b0b5-126dafa871ac"
      },
      "execution_count": 6,
      "outputs": [
        {
          "output_type": "stream",
          "name": "stdout",
          "text": [
            "Epoch 1/10\n",
            "1875/1875 [==============================] - 23s 11ms/step - loss: 0.2666 - accuracy: 0.9242\n",
            "Epoch 2/10\n",
            "1875/1875 [==============================] - 14s 7ms/step - loss: 0.1175 - accuracy: 0.9650\n",
            "Epoch 3/10\n",
            "1875/1875 [==============================] - 8s 4ms/step - loss: 0.0803 - accuracy: 0.9757\n",
            "Epoch 4/10\n",
            "1875/1875 [==============================] - 8s 4ms/step - loss: 0.0595 - accuracy: 0.9817\n",
            "Epoch 5/10\n",
            "1875/1875 [==============================] - 7s 4ms/step - loss: 0.0455 - accuracy: 0.9866\n",
            "Epoch 6/10\n",
            "1875/1875 [==============================] - 13s 7ms/step - loss: 0.0359 - accuracy: 0.9894\n",
            "Epoch 7/10\n",
            "1875/1875 [==============================] - 8s 4ms/step - loss: 0.0292 - accuracy: 0.9909\n",
            "Epoch 8/10\n",
            "1875/1875 [==============================] - 7s 4ms/step - loss: 0.0224 - accuracy: 0.9933\n",
            "Epoch 9/10\n",
            "1875/1875 [==============================] - 7s 4ms/step - loss: 0.0197 - accuracy: 0.9941\n",
            "Epoch 10/10\n",
            "1875/1875 [==============================] - 8s 4ms/step - loss: 0.0158 - accuracy: 0.9951\n"
          ]
        }
      ]
    },
    {
      "cell_type": "code",
      "source": [
        "# Importar la biblioteca pandas\n",
        "import pandas as pd\n",
        "\n",
        "# Graficar historial de entrenamiento usando pandas para convertirlo a DataFrame\n",
        "# Trazar curvas de pérdida y métricas durante entrenamiento y validación\n",
        "pd.DataFrame(history.history).plot(grid=True)"
      ],
      "metadata": {
        "colab": {
          "base_uri": "https://localhost:8080/",
          "height": 447
        },
        "id": "CVT1lejox7pu",
        "outputId": "136586c7-df99-48be-813a-833ce0286d32"
      },
      "execution_count": 7,
      "outputs": [
        {
          "output_type": "execute_result",
          "data": {
            "text/plain": [
              "<Axes: >"
            ]
          },
          "metadata": {},
          "execution_count": 7
        },
        {
          "output_type": "display_data",
          "data": {
            "text/plain": [
              "<Figure size 640x480 with 1 Axes>"
            ],
            "image/png": "[encoded data removed]"
          },
          "metadata": {}
        }
      ]
    },
    {
      "cell_type": "code",
      "source": [
        "# Evaluar el modelo en entrenamiento y prueba\n",
        "# Esto proporciona la pérdida y la precisión del modelo\n",
        "\n",
        "# Evaluar el modelo en el conjunto de entrenamiento\n",
        "loss, accuracy = model.evaluate(training_images, training_labels)\n",
        "print(\"Pérdida en el conjunto de entrenamiento:\", loss)\n",
        "print(\"Precisión en el conjunto de entrenamiento:\", accuracy)\n",
        "\n",
        "# Evaluar el modelo con datos no vistos\n",
        "loss, accuracy = model.evaluate(test_images, test_labels)\n",
        "print(\"Pérdida en el conjunto de prueba:\", loss)\n",
        "print(\"Precisión en el conjunto de prueba:\", accuracy)"
      ],
      "metadata": {
        "colab": {
          "base_uri": "https://localhost:8080/"
        },
        "id": "hyiCTlEmyp9-",
        "outputId": "5083e359-5abf-45d9-e9b9-41983774f782"
      },
      "execution_count": 8,
      "outputs": [
        {
          "output_type": "stream",
          "name": "stdout",
          "text": [
            "1875/1875 [==============================] - 4s 2ms/step - loss: 0.0147 - accuracy: 0.9959\n",
            "Pérdida en el conjunto de entrenamiento: 0.014749600552022457\n",
            "Precisión en el conjunto de entrenamiento: 0.9959166646003723\n",
            "313/313 [==============================] - 1s 2ms/step - loss: 0.0851 - accuracy: 0.9774\n",
            "Pérdida en el conjunto de prueba: 0.08511519432067871\n",
            "Precisión en el conjunto de prueba: 0.977400004863739\n"
          ]
        }
      ]
    },
    {
      "cell_type": "code",
      "source": [
        "# Predicción de una muestra, evaluando el modelo con datos no vistos\n",
        "loss, accuracy = model.evaluate(test_images, test_labels)\n",
        "print(\"Pérdida en el conjunto de prueba:\", loss)\n",
        "print(\"Precisión en el conjunto de prueba:\", accuracy)"
      ],
      "metadata": {
        "colab": {
          "base_uri": "https://localhost:8080/"
        },
        "id": "p4YqlKN6zZUO",
        "outputId": "67d8b51a-9f6c-44a2-8841-ba428b6a36fc"
      },
      "execution_count": 9,
      "outputs": [
        {
          "output_type": "stream",
          "name": "stdout",
          "text": [
            "313/313 [==============================] - 1s 2ms/step - loss: 0.0851 - accuracy: 0.9774\n",
            "Pérdida en el conjunto de prueba: 0.08511519432067871\n",
            "Precisión en el conjunto de prueba: 0.977400004863739\n"
          ]
        }
      ]
    },
    {
      "cell_type": "code",
      "source": [
        "# Seleccionar una muestra del conjunto de prueba\n",
        "sample_index = 0  # Puedes cambiar este índice para probar diferentes muestras\n",
        "sample_image = test_images[sample_index]\n",
        "sample_label = test_labels[sample_index]\n",
        "\n",
        "# Realizar la predicción utilizando el modelo entrenado\n",
        "predictions = model.predict(np.array([sample_image]))\n",
        "predicted_label = np.argmax(predictions[0])\n",
        "\n",
        "# Imprimir la etiqueta real y la predicción\n",
        "print(f'Etiqueta real: {sample_label}')\n",
        "print(f'Predicción del modelo: {predicted_label}')\n",
        "\n",
        "# Visualizar la muestra\n",
        "plt.imshow(sample_image, cmap=plt.cm.binary)\n",
        "plt.title(f'Etiqueta real: {sample_label} - Predicción: {predicted_label}')\n",
        "plt.show()\n"
      ],
      "metadata": {
        "colab": {
          "base_uri": "https://localhost:8080/",
          "height": 505
        },
        "id": "hkZcirRAzys9",
        "outputId": "3bdbc60d-998e-442c-dd0b-c71dbcda0f7a"
      },
      "execution_count": 10,
      "outputs": [
        {
          "output_type": "stream",
          "name": "stdout",
          "text": [
            "1/1 [==============================] - 0s 85ms/step\n",
            "Etiqueta real: 7\n",
            "Predicción del modelo: 7\n"
          ]
        },
        {
          "output_type": "display_data",
          "data": {
            "text/plain": [
              "<Figure size 640x480 with 1 Axes>"
            ],
            "image/png": "[encoded data removed]"
          },
          "metadata": {}
        }
      ]
    },
    {
      "cell_type": "code",
      "source": [
        "# Otro ejemplo con otra muestra\n",
        "# Seleccionar una muestra aleatoria del conjunto de prueba\n",
        "import random\n",
        "random_index = random.randint(0, len(test_images) - 1)\n",
        "sample_image = test_images[random_index]\n",
        "sample_label = test_labels[random_index]\n",
        "\n",
        "# Realizar la predicción utilizando el modelo entrenado\n",
        "predictions = model.predict(np.array([sample_image]))\n",
        "predicted_label = np.argmax(predictions[0])\n",
        "\n",
        "# Imprimir la etiqueta real y la predicción\n",
        "print(f'Etiqueta real: {sample_label}')\n",
        "print(f'Predicción del modelo: {predicted_label}')\n",
        "\n",
        "# Visualizar la muestra\n",
        "plt.imshow(sample_image, cmap=plt.cm.binary)\n",
        "plt.title(f'Etiqueta real: {sample_label} - Predicción: {predicted_label}')\n",
        "plt.show()\n"
      ],
      "metadata": {
        "colab": {
          "base_uri": "https://localhost:8080/",
          "height": 505
        },
        "id": "DjCQoOyl1hIP",
        "outputId": "3b689104-f0b6-41e4-909a-011bcd7d4c23"
      },
      "execution_count": 11,
      "outputs": [
        {
          "output_type": "stream",
          "name": "stdout",
          "text": [
            "1/1 [==============================] - 0s 23ms/step\n",
            "Etiqueta real: 3\n",
            "Predicción del modelo: 3\n"
          ]
        },
        {
          "output_type": "display_data",
          "data": {
            "text/plain": [
              "<Figure size 640x480 with 1 Axes>"
            ],
            "image/png": "[encoded data removed]"
          },
          "metadata": {}
        }
      ]
    },
    {
      "cell_type": "markdown",
      "source": [
        "## Preguntas para reflexionar:"
      ],
      "metadata": {
        "id": "axP-vuQaz-wL"
      }
    },
    {
      "cell_type": "markdown",
      "source": [
        "\n",
        "\n",
        "1.   **¿Qué conjunto de datos se utiliza en este código y qué problema se pretende resolver?**\n",
        "\n",
        ">> El conjunto de datos es el MNIST, que contiene imágenes de dígitos manuscritos del 0 al 9. A su vez, el problema que se pretende resolver es un problema de clasificación de imágenes, de modo que el modelo aprenda a identificar imágenes y clasificar correctamente los dígitos de dichas imágenes.\n",
        "\n",
        "2.   **¿Por qué es importante normalizar los valores de los píxeles de las imágenes antes de entrenar el modelo?**\n",
        "\n",
        ">> Es importante hacer normalización porque la red neuronal funciona mejor cuando los datos de entrada estáen un rango más pequeño. También mejora del rendimiento del algoritmo, ya que funciona mejor cuando las características de entrada están en un rango similar; además, la normalización puede ayudar a evitar que ciertas características dominen otras debido a su escala.\n",
        "\n",
        "3. **¿Qué arquitectura de red neuronal se utiliza en este código y cuántas capas tiene?**\n",
        "\n",
        ">> La arquitectura utilizada es una feedforward simple (o modelo secuencial) y tiene 3 capas: la de entrada (aplanamiento) que pasa la imagen 2D de 28x28 a un vector 1D de 784 elementos. La capa oculta tiene 128 neuronas y usa función de activación ReLU. La capa de salida densa tiene 10 neuronas y usa función de activación softmax.\n",
        "\n",
        "4. **¿Cuál es la función de activación utilizada en la capa oculta y en la capa de salida del modelo, y por qué se eligen esas funciones?**\n",
        "\n",
        ">> En la capa oulta se usa ReLU porque ayuda a que el modelo aprenda patrones complejos. En la capa de salida se usa 'softmax' porque convierte los valores de salida en probabilidades que suman 1, facilitando la interpretación de las predicciones.\n",
        "\n",
        "5. **¿Qué función de pérdida y qué métricas se utilizan para evaluar el rendimiento del modelo?**\n",
        "\n",
        ">> La función de pérdida usada es *'sparse_categorical_crossentropy'* donde las etiquetas son enteros en lugar de vectores one-hot. Y la métrica usada es 'accuracy' o precisión, que ayuda a medir el porcentaje de predicciones.\n",
        "\n",
        "6. **¿Cuántos epochs se utilizan para entrenar el modelo y por qué ese número?**\n",
        "\n",
        ">> Se usan 10 epochs. Es escogido dicho número para proporcionarle suficiente tiempo al modelo para aprenderse los patrones en los datos.\n",
        "\n",
        "7. **¿Qué significa la función model.summary() y qué información proporciona?**\n",
        "\n",
        ">> Esta función proporciona un resumen de la arquitectura del modelo. La función proporciona información sobre las capas, los tipos de capa, la forma de salida de cada capa, el número de parámetros, el total de parámetros, etc. Lo cual ayuda a entender la estructura del modelo y el tamaño de los datos que pasan por cada capa.\n",
        "\n",
        "8. **¿Qué técnicas específicas se emplean para evitar el sobreajuste del modelo?**\n",
        "\n",
        ">> Normalización de los valores de los píxeles, lo cual ayuda a que el modelo aprenda de forma eficiente mientras reduce la varianza. Ayuda a que los algoritmos de aprendizaje automático funcionen mejor, ya que los valores de entrada estarán en un rango similar.\n",
        "\n",
        ">> Y el uso de conjunto de datos grande como el MNIST, proporciona representación de los dígitos manuscritos para que el modelo generalice mejor la información.\n",
        "\n",
        "\n"
      ],
      "metadata": {
        "id": "j8Lqvqcx2C0r"
      }
    },
    {
      "cell_type": "markdown",
      "source": [
        "## Ejercicios de exploración"
      ],
      "metadata": {
        "id": "rVec9apn7TXo"
      }
    },
    {
      "cell_type": "markdown",
      "source": [
        "#### Predicción de una muestra:"
      ],
      "metadata": {
        "id": "7YzeNY6b8xvP"
      }
    },
    {
      "cell_type": "code",
      "source": [
        "sample_index = 0\n",
        "sample_image = test_images[sample_index]\n",
        "predictions = model.predict(np.array([sample_image]))\n",
        "predicted_label = np.argmax(predictions[0])\n",
        "print(f'Etiqueta real: {test_labels[sample_index]}')\n",
        "print(f'Predicción del modelo: {predicted_label}')"
      ],
      "metadata": {
        "id": "thKP93jY0Ask",
        "colab": {
          "base_uri": "https://localhost:8080/"
        },
        "outputId": "611e4f90-d37c-4271-ba3a-69310a2400d6"
      },
      "execution_count": 12,
      "outputs": [
        {
          "output_type": "stream",
          "name": "stdout",
          "text": [
            "1/1 [==============================] - 0s 20ms/step\n",
            "Etiqueta real: 7\n",
            "Predicción del modelo: 7\n"
          ]
        }
      ]
    },
    {
      "cell_type": "markdown",
      "source": [
        "#### Interpretación de la lista de números:\n"
      ],
      "metadata": {
        "id": "ADbK6mGB8_6M"
      }
    },
    {
      "cell_type": "markdown",
      "source": [
        "Los números representan las probabilidades de cada una de las 10 clases (dígitos 0-9).\n",
        "\n"
      ],
      "metadata": {
        "id": "jvXUxdVn9F1t"
      }
    },
    {
      "cell_type": "markdown",
      "source": [
        "#### Experimentar con el número de neuronas en la capa oculta:"
      ],
      "metadata": {
        "id": "MI6t3SK39I-i"
      }
    },
    {
      "cell_type": "code",
      "source": [
        "model = keras.models.Sequential([\n",
        "  keras.layers.Flatten(input_shape=(28, 28)),\n",
        "  keras.layers.Dense(30, activation='relu'),  # Cambiar el número de neuronas\n",
        "  keras.layers.Dense(10, activation='softmax')\n",
        "])"
      ],
      "metadata": {
        "id": "f4qeXzAE9FgK"
      },
      "execution_count": 13,
      "outputs": []
    },
    {
      "cell_type": "markdown",
      "source": [
        "#### Cambiar la función de activación:"
      ],
      "metadata": {
        "id": "fEcbHZBv9jlU"
      }
    },
    {
      "cell_type": "code",
      "source": [
        "model = keras.models.Sequential([\n",
        "  keras.layers.Flatten(input_shape=(28, 28)),\n",
        "  keras.layers.Dense(128, activation='tanh'),  # Cambiar la función de activación\n",
        "  keras.layers.Dense(10, activation='softmax')\n",
        "])\n",
        "# Imprimir\n",
        "model.summary()"
      ],
      "metadata": {
        "colab": {
          "base_uri": "https://localhost:8080/"
        },
        "id": "7jHb4dWd9gdr",
        "outputId": "89beed0f-cbd1-4b08-c8ac-3d48856f4a5b"
      },
      "execution_count": 14,
      "outputs": [
        {
          "output_type": "stream",
          "name": "stdout",
          "text": [
            "Model: \"sequential_2\"\n",
            "_________________________________________________________________\n",
            " Layer (type)                Output Shape              Param #   \n",
            "=================================================================\n",
            " flatten_2 (Flatten)         (None, 784)               0         \n",
            "                                                                 \n",
            " dense_4 (Dense)             (None, 128)               100480    \n",
            "                                                                 \n",
            " dense_5 (Dense)             (None, 10)                1290      \n",
            "                                                                 \n",
            "=================================================================\n",
            "Total params: 101770 (397.54 KB)\n",
            "Trainable params: 101770 (397.54 KB)\n",
            "Non-trainable params: 0 (0.00 Byte)\n",
            "_________________________________________________________________\n"
          ]
        }
      ]
    },
    {
      "cell_type": "markdown",
      "source": [
        "#### Eliminar la capa Flatten:"
      ],
      "metadata": {
        "id": "5-_DXLuY9z1L"
      }
    },
    {
      "cell_type": "markdown",
      "source": [
        "Eliminar la capa Flatten causará un error porque el modelo necesita convertir la imagen 2D a un vector 1D para procesarla en las capas densas."
      ],
      "metadata": {
        "id": "tPV_C5R492AR"
      }
    },
    {
      "cell_type": "markdown",
      "source": [
        "#### Probar diferentes optimizadores:"
      ],
      "metadata": {
        "id": "NWW1mgth93zD"
      }
    },
    {
      "cell_type": "code",
      "source": [
        "model.compile(optimizer='sgd',\n",
        "              loss='sparse_categorical_crossentropy',\n",
        "              metrics=['accuracy'])"
      ],
      "metadata": {
        "id": "bCNzYZfy9xYK"
      },
      "execution_count": 15,
      "outputs": []
    },
    {
      "cell_type": "markdown",
      "source": [
        "#### Aumentar el número de épocas:"
      ],
      "metadata": {
        "id": "-cpFw4TA9_v7"
      }
    },
    {
      "cell_type": "code",
      "source": [
        "history = model.fit(training_images, training_labels, epochs=20)  # Aumentar a 20 épocas"
      ],
      "metadata": {
        "colab": {
          "base_uri": "https://localhost:8080/"
        },
        "id": "luht56329-ZL",
        "outputId": "cedda215-2b3a-4c1b-d9b7-35a518427c93"
      },
      "execution_count": 16,
      "outputs": [
        {
          "output_type": "stream",
          "name": "stdout",
          "text": [
            "Epoch 1/20\n",
            "1875/1875 [==============================] - 5s 3ms/step - loss: 0.6233 - accuracy: 0.8405\n",
            "Epoch 2/20\n",
            "1875/1875 [==============================] - 5s 3ms/step - loss: 0.3581 - accuracy: 0.9006\n",
            "Epoch 3/20\n",
            "1875/1875 [==============================] - 6s 3ms/step - loss: 0.3153 - accuracy: 0.9102\n",
            "Epoch 4/20\n",
            "1875/1875 [==============================] - 5s 3ms/step - loss: 0.2904 - accuracy: 0.9177\n",
            "Epoch 5/20\n",
            "1875/1875 [==============================] - 8s 4ms/step - loss: 0.2714 - accuracy: 0.9228\n",
            "Epoch 6/20\n",
            "1875/1875 [==============================] - 8s 4ms/step - loss: 0.2554 - accuracy: 0.9275\n",
            "Epoch 7/20\n",
            "1875/1875 [==============================] - 9s 5ms/step - loss: 0.2412 - accuracy: 0.9319\n",
            "Epoch 8/20\n",
            "1875/1875 [==============================] - 5s 3ms/step - loss: 0.2283 - accuracy: 0.9352\n",
            "Epoch 9/20\n",
            "1875/1875 [==============================] - 5s 3ms/step - loss: 0.2166 - accuracy: 0.9389\n",
            "Epoch 10/20\n",
            "1875/1875 [==============================] - 5s 2ms/step - loss: 0.2058 - accuracy: 0.9422\n",
            "Epoch 11/20\n",
            "1875/1875 [==============================] - 6s 3ms/step - loss: 0.1960 - accuracy: 0.9456\n",
            "Epoch 12/20\n",
            "1875/1875 [==============================] - 5s 2ms/step - loss: 0.1868 - accuracy: 0.9481\n",
            "Epoch 13/20\n",
            "1875/1875 [==============================] - 5s 2ms/step - loss: 0.1786 - accuracy: 0.9503\n",
            "Epoch 14/20\n",
            "1875/1875 [==============================] - 6s 3ms/step - loss: 0.1709 - accuracy: 0.9525\n",
            "Epoch 15/20\n",
            "1875/1875 [==============================] - 5s 2ms/step - loss: 0.1638 - accuracy: 0.9543\n",
            "Epoch 16/20\n",
            "1875/1875 [==============================] - 6s 3ms/step - loss: 0.1572 - accuracy: 0.9559\n",
            "Epoch 17/20\n",
            "1875/1875 [==============================] - 7s 4ms/step - loss: 0.1513 - accuracy: 0.9579\n",
            "Epoch 18/20\n",
            "1875/1875 [==============================] - 7s 3ms/step - loss: 0.1456 - accuracy: 0.9593\n",
            "Epoch 19/20\n",
            "1875/1875 [==============================] - 6s 3ms/step - loss: 0.1405 - accuracy: 0.9608\n",
            "Epoch 20/20\n",
            "1875/1875 [==============================] - 5s 3ms/step - loss: 0.1356 - accuracy: 0.9621\n"
          ]
        }
      ]
    },
    {
      "cell_type": "markdown",
      "source": [
        "#### Modificar la arquitectura de la red:"
      ],
      "metadata": {
        "id": "nyPmjGiq-FY7"
      }
    },
    {
      "cell_type": "code",
      "source": [
        "model = keras.models.Sequential([\n",
        "  keras.layers.Flatten(input_shape=(28, 28)),\n",
        "  keras.layers.Dense(128, activation='relu'),\n",
        "  keras.layers.Dense(64, activation='relu'),  # Agregar una capa adicional\n",
        "  keras.layers.Dense(10, activation='softmax')\n",
        "])"
      ],
      "metadata": {
        "id": "3NFjhKYy-CHz"
      },
      "execution_count": 17,
      "outputs": []
    },
    {
      "cell_type": "markdown",
      "source": [
        "#### Eliminar la normalización de los valores de píxeles:"
      ],
      "metadata": {
        "id": "_dwoh1ZJ-IOH"
      }
    },
    {
      "cell_type": "code",
      "source": [
        "'''\n",
        "No normalizar los valores de los píxeles de las imágenes antes de entrenar el\n",
        "modelo puede afectar el rendimiento del modelo.\n",
        "'''\n",
        "# No normalizarlo implica omitir lo siguiente:\n",
        "# training_images = training_images / 255.0\n",
        "# test_images = test_images / 255.0"
      ],
      "metadata": {
        "colab": {
          "base_uri": "https://localhost:8080/",
          "height": 35
        },
        "id": "UjN4HsiD-Kok",
        "outputId": "1b569e50-36a7-4f2f-e96e-cccad0305f7f"
      },
      "execution_count": 18,
      "outputs": [
        {
          "output_type": "execute_result",
          "data": {
            "text/plain": [
              "'\\nNo normalizar los valores de los píxeles de las imágenes antes de entrenar el \\nmodelo puede afectar el rendimiento del modelo.\\n'"
            ],
            "application/vnd.google.colaboratory.intrinsic+json": {
              "type": "string"
            }
          },
          "metadata": {},
          "execution_count": 18
        }
      ]
    },
    {
      "cell_type": "markdown",
      "source": [
        "#### Considerar las capas finales:"
      ],
      "metadata": {
        "id": "7Gu8RXrc-Mcz"
      }
    },
    {
      "cell_type": "markdown",
      "source": [
        "La capa final tiene 10 neuronas porque hay 10 clases (dígitos 0-9). Cambiar esto a un número diferente no tendría sentido para este problema específico.\n",
        "\n"
      ],
      "metadata": {
        "id": "K0piygbJ_C5X"
      }
    },
    {
      "cell_type": "markdown",
      "source": [
        "#### Entrenar la red con un número diferente de capas finales y probar el modelo con imágenes de prueba:"
      ],
      "metadata": {
        "id": "AWr6-XmI-ZB8"
      }
    },
    {
      "cell_type": "code",
      "source": [
        "import keras\n",
        "import numpy as np\n",
        "import matplotlib.pyplot as plt\n",
        "import pandas as pd\n",
        "\n",
        "# Cargar el conjunto de datos MNIST\n",
        "mnist = keras.datasets.mnist\n",
        "(training_images, training_labels), (test_images, test_labels) = mnist.load_data()\n",
        "\n",
        "# Normalizar los valores de los datos de píxeles de las imágenes dividiendo por 255.0\n",
        "training_images = training_images / 255.0\n",
        "test_images = test_images / 255.0\n",
        "\n",
        "# Modificar el modelo para incluir más capas finales\n",
        "model = keras.models.Sequential([\n",
        "  keras.layers.Flatten(input_shape=(28, 28)),\n",
        "  keras.layers.Dense(128, activation='relu'),\n",
        "  keras.layers.Dense(64, activation='relu'),  # Añadir una capa adicional\n",
        "  keras.layers.Dense(32, activation='relu'),  # Añadir otra capa adicional\n",
        "  keras.layers.Dense(10, activation='softmax')\n",
        "])\n",
        "\n",
        "# Compilar el modelo, especificando optimizador, función de pérdida y métricas\n",
        "model.compile(optimizer='adam',\n",
        "              loss='sparse_categorical_crossentropy',\n",
        "              metrics=['accuracy'])\n",
        "\n",
        "model.summary()\n",
        "\n",
        "# Entrenar el modelo con los datos de entrenamiento especificando número de épocas\n",
        "history = model.fit(training_images, training_labels, epochs=10)\n",
        "\n",
        "# Graficar historial de entrenamiento\n",
        "pd.DataFrame(history.history).plot(grid=True)\n",
        "\n",
        "# Evaluar el modelo en el conjunto de entrenamiento\n",
        "loss, accuracy = model.evaluate(training_images, training_labels)\n",
        "print(\"Pérdida en el conjunto de entrenamiento:\", loss)\n",
        "print(\"Precisión en el conjunto de entrenamiento:\", accuracy)\n",
        "\n",
        "# Evaluar el modelo con datos no vistos\n",
        "loss, accuracy = model.evaluate(test_images, test_labels)\n",
        "print(\"Pérdida en el conjunto de prueba:\", loss)\n",
        "print(\"Precisión en el conjunto de prueba:\", accuracy)\n",
        "\n",
        "# Seleccionar una muestra del conjunto de prueba\n",
        "sample_index = 0\n",
        "sample_image = test_images[sample_index]\n",
        "predictions = model.predict(np.array([sample_image]))\n",
        "predicted_label = np.argmax(predictions[0])\n",
        "print(f'Etiqueta real: {test_labels[sample_index]}')\n",
        "print(f'Predicción del modelo: {predicted_label}')\n",
        "\n",
        "# Visualizar la muestra\n",
        "plt.imshow(sample_image, cmap=plt.cm.binary)\n",
        "plt.title(f'Etiqueta real: {test_labels[sample_index]} - Predicción: {predicted_label}')\n",
        "plt.show()"
      ],
      "metadata": {
        "colab": {
          "base_uri": "https://localhost:8080/",
          "height": 1000
        },
        "id": "ctqYqgG4-auC",
        "outputId": "e53d97a6-9046-4d4f-fe3e-ba6411dd791f"
      },
      "execution_count": 19,
      "outputs": [
        {
          "output_type": "stream",
          "name": "stdout",
          "text": [
            "Model: \"sequential_4\"\n",
            "_________________________________________________________________\n",
            " Layer (type)                Output Shape              Param #   \n",
            "=================================================================\n",
            " flatten_4 (Flatten)         (None, 784)               0         \n",
            "                                                                 \n",
            " dense_9 (Dense)             (None, 128)               100480    \n",
            "                                                                 \n",
            " dense_10 (Dense)            (None, 64)                8256      \n",
            "                                                                 \n",
            " dense_11 (Dense)            (None, 32)                2080      \n",
            "                                                                 \n",
            " dense_12 (Dense)            (None, 10)                330       \n",
            "                                                                 \n",
            "=================================================================\n",
            "Total params: 111146 (434.16 KB)\n",
            "Trainable params: 111146 (434.16 KB)\n",
            "Non-trainable params: 0 (0.00 Byte)\n",
            "_________________________________________________________________\n",
            "Epoch 1/10\n",
            "1875/1875 [==============================] - 19s 9ms/step - loss: 0.2667 - accuracy: 0.9215\n",
            "Epoch 2/10\n",
            "1875/1875 [==============================] - 12s 6ms/step - loss: 0.1100 - accuracy: 0.9671\n",
            "Epoch 3/10\n",
            "1875/1875 [==============================] - 10s 5ms/step - loss: 0.0770 - accuracy: 0.9760\n",
            "Epoch 4/10\n",
            "1875/1875 [==============================] - 10s 6ms/step - loss: 0.0602 - accuracy: 0.9809\n",
            "Epoch 5/10\n",
            "1875/1875 [==============================] - 8s 4ms/step - loss: 0.0484 - accuracy: 0.9841\n",
            "Epoch 6/10\n",
            "1875/1875 [==============================] - 9s 5ms/step - loss: 0.0405 - accuracy: 0.9872\n",
            "Epoch 7/10\n",
            "1875/1875 [==============================] - 7s 4ms/step - loss: 0.0326 - accuracy: 0.9891\n",
            "Epoch 8/10\n",
            "1875/1875 [==============================] - 9s 5ms/step - loss: 0.0299 - accuracy: 0.9903\n",
            "Epoch 9/10\n",
            "1875/1875 [==============================] - 8s 4ms/step - loss: 0.0250 - accuracy: 0.9916\n",
            "Epoch 10/10\n",
            "1875/1875 [==============================] - 8s 4ms/step - loss: 0.0239 - accuracy: 0.9920\n",
            "1875/1875 [==============================] - 4s 2ms/step - loss: 0.0260 - accuracy: 0.9914\n",
            "Pérdida en el conjunto de entrenamiento: 0.02597619965672493\n",
            "Precisión en el conjunto de entrenamiento: 0.991433322429657\n",
            "313/313 [==============================] - 1s 2ms/step - loss: 0.1234 - accuracy: 0.9714\n",
            "Pérdida en el conjunto de prueba: 0.12341495603322983\n",
            "Precisión en el conjunto de prueba: 0.9714000225067139\n",
            "1/1 [==============================] - 0s 92ms/step\n",
            "Etiqueta real: 7\n",
            "Predicción del modelo: 7\n"
          ]
        },
        {
          "output_type": "display_data",
          "data": {
            "text/plain": [
              "<Figure size 640x480 with 1 Axes>"
            ],
            "image/png": "[encoded data removed]"
          },
          "metadata": {}
        }
      ]
    },
    {
      "cell_type": "code",
      "source": [],
      "metadata": {
        "id": "Gxfm1DP8-dmk"
      },
      "execution_count": null,
      "outputs": []
    }
  ]
}