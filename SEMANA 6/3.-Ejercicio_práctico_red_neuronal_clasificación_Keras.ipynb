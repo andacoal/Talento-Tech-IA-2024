{
  "nbformat": 4,
  "nbformat_minor": 0,
  "metadata": {
    "colab": {
      "provenance": []
    },
    "kernelspec": {
      "name": "python3",
      "display_name": "Python 3"
    },
    "language_info": {
      "name": "python"
    }
  },
  "cells": [
    {
      "cell_type": "markdown",
      "source": [
        "# Actividad:\n",
        "Ejercicio práctico para implementar una red neuronal para clasificación utilizando Keras."
      ],
      "metadata": {
        "id": "Crrqsimmdb4_"
      }
    },
    {
      "cell_type": "markdown",
      "source": [
        "\n",
        "\n",
        "---\n",
        "\n",
        "Por: Ángela Daniela Córdoba Álvarez\n",
        "\n",
        "\n",
        "---\n",
        "\n"
      ],
      "metadata": {
        "id": "9VQYy6f9dj4p"
      }
    },
    {
      "cell_type": "code",
      "execution_count": 1,
      "metadata": {
        "id": "IIt2lVwKdUaS"
      },
      "outputs": [],
      "source": [
        "# Importar librerías necesarias\n",
        "import keras\n",
        "from sklearn.datasets import make_classification # Generar un conjunto de datos de clasificación sintético\n",
        "from sklearn.model_selection import train_test_split # Dividir los datos en conjuntos de entrenamiento y prueba"
      ]
    },
    {
      "cell_type": "code",
      "source": [
        "# Generación de datos de clasificación sintéticos\n",
        "# 100 muestras, 5 características y 2 clases\n",
        "X, y = make_classification(n_samples=100, n_features=5, n_classes=2)"
      ],
      "metadata": {
        "id": "XSxGi-ox5lr9"
      },
      "execution_count": 2,
      "outputs": []
    },
    {
      "cell_type": "code",
      "source": [
        "# División de los datos. El 20% de los datos se reservan para conjunto de pruebas\n",
        "X_train, X_test, y_train, y_test = train_test_split(X, y, test_size=0.2)"
      ],
      "metadata": {
        "id": "O4lm-7-j51qS"
      },
      "execution_count": 3,
      "outputs": []
    },
    {
      "cell_type": "code",
      "source": [
        "# Codificación one-hot de las etiquetas\n",
        "# Convierte las etiquetas de clases en vectores binarios\n",
        "# La posición de la clase activa es 1 y las demás 0\n",
        "y_train_categorical = keras.utils.to_categorical(y_train)\n",
        "y_test_categorical = keras.utils.to_categorical(y_test)"
      ],
      "metadata": {
        "id": "VdA4ph1b6Lsg"
      },
      "execution_count": 4,
      "outputs": []
    },
    {
      "cell_type": "code",
      "source": [
        "# Creación del modelo con una capa oculta de 10 neuronas y activación ReLU\n",
        "# Capa de salida con 2 neuronas y activación softmax\n",
        "model = keras.Sequential()\n",
        "\n",
        "# Añadimos las capas al modelo\n",
        "\n",
        "# Capa oculta con 10 neuronas y activación ReLU\n",
        "model.add(keras.layers.Dense(10, input_shape=(X_train.shape[1],),activation='relu'))\n",
        "\n",
        "# Capa de salida con 2 neuronas y activación softmax\n",
        "model.add(keras.layers.Dense(2, activation='softmax'))"
      ],
      "metadata": {
        "id": "ASsKssvc6dfY"
      },
      "execution_count": 5,
      "outputs": []
    },
    {
      "cell_type": "code",
      "source": [
        "# Compilación del modelo usando optimizador Adam, la función de pérdida de entropía cruzada categórica y métrices de precisión\n",
        "model.compile(optimizer='adam', loss='categorical_crossentropy', metrics=['accuracy'])"
      ],
      "metadata": {
        "id": "7pxrZQeg6vRh"
      },
      "execution_count": 6,
      "outputs": []
    },
    {
      "cell_type": "code",
      "source": [
        "# Entrenamiento del modelo durante 10 épocas en lotes de tamaño 32\n",
        "# Los conjuntos de validación permiten monitorear el rendimiento del modelo\n",
        "model.fit(X_train, y_train_categorical, epochs=10, batch_size=32, validation_data=(X_test, y_test_categorical))"
      ],
      "metadata": {
        "colab": {
          "base_uri": "https://localhost:8080/"
        },
        "id": "WMSefpXK7YWa",
        "outputId": "f13dcafd-cde8-4f1d-bacc-73a94c30ffc9"
      },
      "execution_count": 7,
      "outputs": [
        {
          "output_type": "stream",
          "name": "stdout",
          "text": [
            "Epoch 1/10\n",
            "3/3 [==============================] - 2s 266ms/step - loss: 0.5384 - accuracy: 0.7750 - val_loss: 0.4350 - val_accuracy: 0.8500\n",
            "Epoch 2/10\n",
            "3/3 [==============================] - 0s 73ms/step - loss: 0.5240 - accuracy: 0.7750 - val_loss: 0.4294 - val_accuracy: 0.8500\n",
            "Epoch 3/10\n",
            "3/3 [==============================] - 0s 26ms/step - loss: 0.5101 - accuracy: 0.7875 - val_loss: 0.4242 - val_accuracy: 0.9000\n",
            "Epoch 4/10\n",
            "3/3 [==============================] - 0s 37ms/step - loss: 0.4973 - accuracy: 0.8000 - val_loss: 0.4192 - val_accuracy: 0.9000\n",
            "Epoch 5/10\n",
            "3/3 [==============================] - 0s 34ms/step - loss: 0.4858 - accuracy: 0.8000 - val_loss: 0.4147 - val_accuracy: 0.9000\n",
            "Epoch 6/10\n",
            "3/3 [==============================] - 0s 69ms/step - loss: 0.4744 - accuracy: 0.8000 - val_loss: 0.4102 - val_accuracy: 0.9000\n",
            "Epoch 7/10\n",
            "3/3 [==============================] - 0s 45ms/step - loss: 0.4629 - accuracy: 0.8125 - val_loss: 0.4063 - val_accuracy: 0.9000\n",
            "Epoch 8/10\n",
            "3/3 [==============================] - 0s 41ms/step - loss: 0.4538 - accuracy: 0.8125 - val_loss: 0.4024 - val_accuracy: 0.9000\n",
            "Epoch 9/10\n",
            "3/3 [==============================] - 0s 76ms/step - loss: 0.4441 - accuracy: 0.8250 - val_loss: 0.3990 - val_accuracy: 0.9000\n",
            "Epoch 10/10\n",
            "3/3 [==============================] - 0s 46ms/step - loss: 0.4343 - accuracy: 0.8500 - val_loss: 0.3958 - val_accuracy: 0.9000\n"
          ]
        },
        {
          "output_type": "execute_result",
          "data": {
            "text/plain": [
              "<keras.src.callbacks.History at 0x7829748bb460>"
            ]
          },
          "metadata": {},
          "execution_count": 7
        }
      ]
    },
    {
      "cell_type": "code",
      "source": [
        "# Evaluación del modelo\n",
        "loss, accuracy = model.evaluate(X_test, y_test_categorical)\n",
        "\n",
        "# Impresión de los resultados\n",
        "print(\"Pérdida:\", loss)\n",
        "print(\"Precisión:\", accuracy)"
      ],
      "metadata": {
        "colab": {
          "base_uri": "https://localhost:8080/"
        },
        "id": "fBmL8vZE7sHB",
        "outputId": "9e0e0b8d-6bb2-4349-c075-fdfe982c3736"
      },
      "execution_count": 8,
      "outputs": [
        {
          "output_type": "stream",
          "name": "stdout",
          "text": [
            "1/1 [==============================] - 0s 57ms/step - loss: 0.3958 - accuracy: 0.9000\n",
            "Pérdida: 0.39578989148139954\n",
            "Precisión: 0.8999999761581421\n"
          ]
        }
      ]
    },
    {
      "cell_type": "markdown",
      "source": [
        "## Cambios extra"
      ],
      "metadata": {
        "id": "KUcimlbQ8Bwq"
      }
    },
    {
      "cell_type": "markdown",
      "source": [
        "#### Incrementar número de épocas:"
      ],
      "metadata": {
        "id": "aRLDQ3r38l5v"
      }
    },
    {
      "cell_type": "code",
      "source": [
        "# Entrenamiento del modelo durante 20 épocas en lugar de 10\n",
        "model.fit(X_train, y_train_categorical, epochs=20, batch_size=32, validation_data=(X_test, y_test_categorical))\n",
        "\n",
        "# Evaluación del modelo\n",
        "loss, accuracy = model.evaluate(X_test, y_test_categorical)\n",
        "print(\"Pérdida con 20 épocas:\", loss)\n",
        "print(\"Precisión con 20 épocas:\", accuracy)"
      ],
      "metadata": {
        "colab": {
          "base_uri": "https://localhost:8080/"
        },
        "id": "gfdk1PTY72rz",
        "outputId": "fcc94d8c-683a-42d6-b09c-138a30c8dc8f"
      },
      "execution_count": 9,
      "outputs": [
        {
          "output_type": "stream",
          "name": "stdout",
          "text": [
            "Epoch 1/20\n",
            "3/3 [==============================] - 0s 99ms/step - loss: 0.4270 - accuracy: 0.8500 - val_loss: 0.3929 - val_accuracy: 0.9000\n",
            "Epoch 2/20\n",
            "3/3 [==============================] - 0s 48ms/step - loss: 0.4190 - accuracy: 0.8500 - val_loss: 0.3901 - val_accuracy: 0.9000\n",
            "Epoch 3/20\n",
            "3/3 [==============================] - 0s 59ms/step - loss: 0.4118 - accuracy: 0.8625 - val_loss: 0.3875 - val_accuracy: 0.9000\n",
            "Epoch 4/20\n",
            "3/3 [==============================] - 0s 93ms/step - loss: 0.4045 - accuracy: 0.8500 - val_loss: 0.3851 - val_accuracy: 0.9000\n",
            "Epoch 5/20\n",
            "3/3 [==============================] - 0s 110ms/step - loss: 0.3985 - accuracy: 0.8625 - val_loss: 0.3824 - val_accuracy: 0.9000\n",
            "Epoch 6/20\n",
            "3/3 [==============================] - 0s 87ms/step - loss: 0.3931 - accuracy: 0.8625 - val_loss: 0.3801 - val_accuracy: 0.9000\n",
            "Epoch 7/20\n",
            "3/3 [==============================] - 0s 101ms/step - loss: 0.3877 - accuracy: 0.8625 - val_loss: 0.3783 - val_accuracy: 0.9000\n",
            "Epoch 8/20\n",
            "3/3 [==============================] - 0s 146ms/step - loss: 0.3818 - accuracy: 0.8625 - val_loss: 0.3764 - val_accuracy: 0.9000\n",
            "Epoch 9/20\n",
            "3/3 [==============================] - 0s 86ms/step - loss: 0.3776 - accuracy: 0.8625 - val_loss: 0.3745 - val_accuracy: 0.9000\n",
            "Epoch 10/20\n",
            "3/3 [==============================] - 0s 92ms/step - loss: 0.3723 - accuracy: 0.8625 - val_loss: 0.3727 - val_accuracy: 0.9000\n",
            "Epoch 11/20\n",
            "3/3 [==============================] - 0s 95ms/step - loss: 0.3679 - accuracy: 0.8625 - val_loss: 0.3708 - val_accuracy: 0.9000\n",
            "Epoch 12/20\n",
            "3/3 [==============================] - 0s 83ms/step - loss: 0.3642 - accuracy: 0.8625 - val_loss: 0.3692 - val_accuracy: 0.9000\n",
            "Epoch 13/20\n",
            "3/3 [==============================] - 0s 101ms/step - loss: 0.3596 - accuracy: 0.8625 - val_loss: 0.3675 - val_accuracy: 0.9000\n",
            "Epoch 14/20\n",
            "3/3 [==============================] - 0s 122ms/step - loss: 0.3559 - accuracy: 0.8625 - val_loss: 0.3657 - val_accuracy: 0.9000\n",
            "Epoch 15/20\n",
            "3/3 [==============================] - 0s 84ms/step - loss: 0.3521 - accuracy: 0.8750 - val_loss: 0.3639 - val_accuracy: 0.9000\n",
            "Epoch 16/20\n",
            "3/3 [==============================] - 0s 54ms/step - loss: 0.3487 - accuracy: 0.8875 - val_loss: 0.3620 - val_accuracy: 0.9000\n",
            "Epoch 17/20\n",
            "3/3 [==============================] - 0s 45ms/step - loss: 0.3448 - accuracy: 0.8875 - val_loss: 0.3602 - val_accuracy: 0.9000\n",
            "Epoch 18/20\n",
            "3/3 [==============================] - 0s 52ms/step - loss: 0.3417 - accuracy: 0.8875 - val_loss: 0.3586 - val_accuracy: 0.9000\n",
            "Epoch 19/20\n",
            "3/3 [==============================] - 0s 43ms/step - loss: 0.3386 - accuracy: 0.8875 - val_loss: 0.3571 - val_accuracy: 0.9000\n",
            "Epoch 20/20\n",
            "3/3 [==============================] - 0s 39ms/step - loss: 0.3356 - accuracy: 0.8875 - val_loss: 0.3554 - val_accuracy: 0.9000\n",
            "1/1 [==============================] - 0s 44ms/step - loss: 0.3554 - accuracy: 0.9000\n",
            "Pérdida con 20 épocas: 0.3554450273513794\n",
            "Precisión con 20 épocas: 0.8999999761581421\n"
          ]
        }
      ]
    },
    {
      "cell_type": "markdown",
      "source": [
        "#### Cambiar el tamaño del batch:"
      ],
      "metadata": {
        "id": "ljkyH3De8wrj"
      }
    },
    {
      "cell_type": "code",
      "source": [
        "# Entrenamiento del modelo durante 10 épocas con un tamaño de lote de 16 en lugar de 32\n",
        "model.fit(X_train, y_train_categorical, epochs=10, batch_size=16, validation_data=(X_test, y_test_categorical))\n",
        "\n",
        "# Evaluación del modelo\n",
        "loss, accuracy = model.evaluate(X_test, y_test_categorical)\n",
        "print(\"Pérdida con tamaño de batch 16:\", loss)\n",
        "print(\"Precisión con tamaño de batch 16:\", accuracy)"
      ],
      "metadata": {
        "colab": {
          "base_uri": "https://localhost:8080/"
        },
        "id": "kJsLzE1o8urk",
        "outputId": "927a40aa-85e6-420f-c32e-4e49c097a678"
      },
      "execution_count": 10,
      "outputs": [
        {
          "output_type": "stream",
          "name": "stdout",
          "text": [
            "Epoch 1/10\n",
            "5/5 [==============================] - 0s 40ms/step - loss: 0.3316 - accuracy: 0.8875 - val_loss: 0.3535 - val_accuracy: 0.9000\n",
            "Epoch 2/10\n",
            "5/5 [==============================] - 0s 23ms/step - loss: 0.3277 - accuracy: 0.8750 - val_loss: 0.3512 - val_accuracy: 0.9000\n",
            "Epoch 3/10\n",
            "5/5 [==============================] - 0s 27ms/step - loss: 0.3229 - accuracy: 0.8750 - val_loss: 0.3493 - val_accuracy: 0.9000\n",
            "Epoch 4/10\n",
            "5/5 [==============================] - 0s 33ms/step - loss: 0.3197 - accuracy: 0.8750 - val_loss: 0.3482 - val_accuracy: 0.9000\n",
            "Epoch 5/10\n",
            "5/5 [==============================] - 0s 21ms/step - loss: 0.3160 - accuracy: 0.8750 - val_loss: 0.3465 - val_accuracy: 0.9000\n",
            "Epoch 6/10\n",
            "5/5 [==============================] - 0s 15ms/step - loss: 0.3124 - accuracy: 0.8750 - val_loss: 0.3454 - val_accuracy: 0.9000\n",
            "Epoch 7/10\n",
            "5/5 [==============================] - 0s 17ms/step - loss: 0.3094 - accuracy: 0.8750 - val_loss: 0.3438 - val_accuracy: 0.9000\n",
            "Epoch 8/10\n",
            "5/5 [==============================] - 0s 14ms/step - loss: 0.3066 - accuracy: 0.8750 - val_loss: 0.3431 - val_accuracy: 0.9000\n",
            "Epoch 9/10\n",
            "5/5 [==============================] - 0s 16ms/step - loss: 0.3038 - accuracy: 0.8750 - val_loss: 0.3422 - val_accuracy: 0.9000\n",
            "Epoch 10/10\n",
            "5/5 [==============================] - 0s 16ms/step - loss: 0.3013 - accuracy: 0.8750 - val_loss: 0.3413 - val_accuracy: 0.9000\n",
            "1/1 [==============================] - 0s 43ms/step - loss: 0.3413 - accuracy: 0.9000\n",
            "Pérdida con tamaño de batch 16: 0.3413129150867462\n",
            "Precisión con tamaño de batch 16: 0.8999999761581421\n"
          ]
        }
      ]
    },
    {
      "cell_type": "markdown",
      "source": [
        "#### Cambiar la función de activación:"
      ],
      "metadata": {
        "id": "T026mTtn874o"
      }
    },
    {
      "cell_type": "code",
      "source": [
        "# Crear un nuevo modelo con una función de activación diferente, en este caso: Tanh\n",
        "model = keras.Sequential()\n",
        "model.add(keras.layers.Dense(10, input_shape=(X_train.shape[1],), activation='tanh'))\n",
        "model.add(keras.layers.Dense(2, activation='softmax'))\n",
        "model.compile(optimizer='adam', loss='categorical_crossentropy', metrics=['accuracy'])\n",
        "\n",
        "# Entrenar el modelo con la nueva función de activación\n",
        "model.fit(X_train, y_train_categorical, epochs=10, batch_size=32, validation_data=(X_test, y_test_categorical))\n",
        "\n",
        "# Evaluación del modelo\n",
        "loss, accuracy = model.evaluate(X_test, y_test_categorical)\n",
        "print(\"Pérdida con activación tanh:\", loss)\n",
        "print(\"Precisión con activación tanh:\", accuracy)"
      ],
      "metadata": {
        "colab": {
          "base_uri": "https://localhost:8080/"
        },
        "id": "V1NLhh6r86e4",
        "outputId": "8d64afe1-04d8-4caf-a458-4872a2427bd2"
      },
      "execution_count": 11,
      "outputs": [
        {
          "output_type": "stream",
          "name": "stdout",
          "text": [
            "Epoch 1/10\n",
            "3/3 [==============================] - 1s 105ms/step - loss: 0.8270 - accuracy: 0.2875 - val_loss: 0.8861 - val_accuracy: 0.2500\n",
            "Epoch 2/10\n",
            "3/3 [==============================] - 0s 17ms/step - loss: 0.8065 - accuracy: 0.3625 - val_loss: 0.8663 - val_accuracy: 0.3000\n",
            "Epoch 3/10\n",
            "3/3 [==============================] - 0s 21ms/step - loss: 0.7865 - accuracy: 0.3875 - val_loss: 0.8467 - val_accuracy: 0.3000\n",
            "Epoch 4/10\n",
            "3/3 [==============================] - 0s 29ms/step - loss: 0.7670 - accuracy: 0.4125 - val_loss: 0.8269 - val_accuracy: 0.3500\n",
            "Epoch 5/10\n",
            "3/3 [==============================] - 0s 27ms/step - loss: 0.7491 - accuracy: 0.4875 - val_loss: 0.8075 - val_accuracy: 0.3500\n",
            "Epoch 6/10\n",
            "3/3 [==============================] - 0s 35ms/step - loss: 0.7302 - accuracy: 0.5125 - val_loss: 0.7888 - val_accuracy: 0.3500\n",
            "Epoch 7/10\n",
            "3/3 [==============================] - 0s 34ms/step - loss: 0.7125 - accuracy: 0.5500 - val_loss: 0.7707 - val_accuracy: 0.3500\n",
            "Epoch 8/10\n",
            "3/3 [==============================] - 0s 29ms/step - loss: 0.6955 - accuracy: 0.5750 - val_loss: 0.7531 - val_accuracy: 0.3500\n",
            "Epoch 9/10\n",
            "3/3 [==============================] - 0s 23ms/step - loss: 0.6791 - accuracy: 0.5875 - val_loss: 0.7355 - val_accuracy: 0.4000\n",
            "Epoch 10/10\n",
            "3/3 [==============================] - 0s 32ms/step - loss: 0.6626 - accuracy: 0.6000 - val_loss: 0.7190 - val_accuracy: 0.4000\n",
            "1/1 [==============================] - 0s 38ms/step - loss: 0.7190 - accuracy: 0.4000\n",
            "Pérdida con activación tanh: 0.7189830541610718\n",
            "Precisión con activación tanh: 0.4000000059604645\n"
          ]
        }
      ]
    },
    {
      "cell_type": "markdown",
      "source": [
        "#### Añadir más neuronas a las capas existentes:"
      ],
      "metadata": {
        "id": "XVWvUDNI9G9-"
      }
    },
    {
      "cell_type": "code",
      "source": [
        "# Crear un nuevo modelo con más neuronas en la capa oculta (20 en lugar de 10)\n",
        "model = keras.Sequential()\n",
        "model.add(keras.layers.Dense(20, input_shape=(X_train.shape[1],), activation='relu'))\n",
        "model.add(keras.layers.Dense(2, activation='softmax'))\n",
        "model.compile(optimizer='adam', loss='categorical_crossentropy', metrics=['accuracy'])\n",
        "\n",
        "# Entrenar el modelo con más neuronas\n",
        "model.fit(X_train, y_train_categorical, epochs=10, batch_size=32, validation_data=(X_test, y_test_categorical))\n",
        "\n",
        "# Evaluación del modelo\n",
        "loss, accuracy = model.evaluate(X_test, y_test_categorical)\n",
        "print(\"Pérdida con 20 neuronas:\", loss)\n",
        "print(\"Precisión con 20 neuronas:\", accuracy)"
      ],
      "metadata": {
        "colab": {
          "base_uri": "https://localhost:8080/"
        },
        "id": "3LWd1CRB9FiJ",
        "outputId": "d7568d07-2581-49dd-b6b0-ef878a6f0f2f"
      },
      "execution_count": 12,
      "outputs": [
        {
          "output_type": "stream",
          "name": "stdout",
          "text": [
            "Epoch 1/10\n",
            "3/3 [==============================] - 1s 106ms/step - loss: 0.4024 - accuracy: 0.8500 - val_loss: 0.4098 - val_accuracy: 0.9000\n",
            "Epoch 2/10\n",
            "3/3 [==============================] - 0s 36ms/step - loss: 0.3930 - accuracy: 0.8500 - val_loss: 0.4032 - val_accuracy: 0.9000\n",
            "Epoch 3/10\n",
            "3/3 [==============================] - 0s 32ms/step - loss: 0.3851 - accuracy: 0.8500 - val_loss: 0.3974 - val_accuracy: 0.9000\n",
            "Epoch 4/10\n",
            "3/3 [==============================] - 0s 26ms/step - loss: 0.3771 - accuracy: 0.8500 - val_loss: 0.3921 - val_accuracy: 0.9000\n",
            "Epoch 5/10\n",
            "3/3 [==============================] - 0s 32ms/step - loss: 0.3702 - accuracy: 0.8500 - val_loss: 0.3876 - val_accuracy: 0.9000\n",
            "Epoch 6/10\n",
            "3/3 [==============================] - 0s 27ms/step - loss: 0.3639 - accuracy: 0.8500 - val_loss: 0.3829 - val_accuracy: 0.9000\n",
            "Epoch 7/10\n",
            "3/3 [==============================] - 0s 40ms/step - loss: 0.3577 - accuracy: 0.8625 - val_loss: 0.3780 - val_accuracy: 0.9000\n",
            "Epoch 8/10\n",
            "3/3 [==============================] - 0s 33ms/step - loss: 0.3520 - accuracy: 0.8625 - val_loss: 0.3734 - val_accuracy: 0.9000\n",
            "Epoch 9/10\n",
            "3/3 [==============================] - 0s 33ms/step - loss: 0.3468 - accuracy: 0.8625 - val_loss: 0.3695 - val_accuracy: 0.9000\n",
            "Epoch 10/10\n",
            "3/3 [==============================] - 0s 32ms/step - loss: 0.3421 - accuracy: 0.8750 - val_loss: 0.3663 - val_accuracy: 0.9000\n",
            "1/1 [==============================] - 0s 25ms/step - loss: 0.3663 - accuracy: 0.9000\n",
            "Pérdida con 20 neuronas: 0.36633312702178955\n",
            "Precisión con 20 neuronas: 0.8999999761581421\n"
          ]
        }
      ]
    },
    {
      "cell_type": "markdown",
      "source": [
        "#### Añadir más capas:"
      ],
      "metadata": {
        "id": "nK49DMPz9PpA"
      }
    },
    {
      "cell_type": "code",
      "source": [
        "# Crear un nuevo modelo con una capa oculta adicional\n",
        "model = keras.Sequential()\n",
        "model.add(keras.layers.Dense(10, input_shape=(X_train.shape[1],), activation='relu'))\n",
        "model.add(keras.layers.Dense(10, activation='relu'))  # Capa oculta adicional\n",
        "model.add(keras.layers.Dense(2, activation='softmax'))\n",
        "model.compile(optimizer='adam', loss='categorical_crossentropy', metrics=['accuracy'])\n",
        "\n",
        "# Entrenar el modelo con una capa oculta adicional\n",
        "model.fit(X_train, y_train_categorical, epochs=10, batch_size=32, validation_data=(X_test, y_test_categorical))\n",
        "\n",
        "# Evaluación del modelo\n",
        "loss, accuracy = model.evaluate(X_test, y_test_categorical)\n",
        "print(\"Pérdida con capa oculta adicional:\", loss)\n",
        "print(\"Precisión con capa oculta adicional:\", accuracy)"
      ],
      "metadata": {
        "colab": {
          "base_uri": "https://localhost:8080/"
        },
        "id": "SQb6yRxH9OHH",
        "outputId": "99da41e6-fec8-42d3-c9ed-e9a679af161d"
      },
      "execution_count": 13,
      "outputs": [
        {
          "output_type": "stream",
          "name": "stdout",
          "text": [
            "Epoch 1/10\n",
            "3/3 [==============================] - 1s 103ms/step - loss: 1.0112 - accuracy: 0.2250 - val_loss: 1.2487 - val_accuracy: 0.2000\n",
            "Epoch 2/10\n",
            "3/3 [==============================] - 0s 21ms/step - loss: 0.9844 - accuracy: 0.2375 - val_loss: 1.2132 - val_accuracy: 0.2000\n",
            "Epoch 3/10\n",
            "3/3 [==============================] - 0s 21ms/step - loss: 0.9580 - accuracy: 0.2375 - val_loss: 1.1798 - val_accuracy: 0.2000\n",
            "Epoch 4/10\n",
            "3/3 [==============================] - 0s 17ms/step - loss: 0.9343 - accuracy: 0.2375 - val_loss: 1.1466 - val_accuracy: 0.2000\n",
            "Epoch 5/10\n",
            "3/3 [==============================] - 0s 17ms/step - loss: 0.9128 - accuracy: 0.2750 - val_loss: 1.1148 - val_accuracy: 0.2500\n",
            "Epoch 6/10\n",
            "3/3 [==============================] - 0s 17ms/step - loss: 0.8890 - accuracy: 0.3125 - val_loss: 1.0853 - val_accuracy: 0.2500\n",
            "Epoch 7/10\n",
            "3/3 [==============================] - 0s 25ms/step - loss: 0.8684 - accuracy: 0.3250 - val_loss: 1.0562 - val_accuracy: 0.3000\n",
            "Epoch 8/10\n",
            "3/3 [==============================] - 0s 16ms/step - loss: 0.8484 - accuracy: 0.4000 - val_loss: 1.0278 - val_accuracy: 0.3500\n",
            "Epoch 9/10\n",
            "3/3 [==============================] - 0s 26ms/step - loss: 0.8283 - accuracy: 0.4125 - val_loss: 1.0005 - val_accuracy: 0.3500\n",
            "Epoch 10/10\n",
            "3/3 [==============================] - 0s 16ms/step - loss: 0.8091 - accuracy: 0.4375 - val_loss: 0.9741 - val_accuracy: 0.3500\n",
            "1/1 [==============================] - 0s 36ms/step - loss: 0.9741 - accuracy: 0.3500\n",
            "Pérdida con capa oculta adicional: 0.9740570187568665\n",
            "Precisión con capa oculta adicional: 0.3499999940395355\n"
          ]
        }
      ]
    },
    {
      "cell_type": "markdown",
      "source": [
        "Luego, como opción extra, podemos guardar el modelo con los 5 cambios presentados anteriormente en caso de que se quiera seguir entrenando en otra ocasión."
      ],
      "metadata": {
        "id": "OZCbNcgH9iw1"
      }
    },
    {
      "cell_type": "code",
      "source": [
        "# Crear el modelo con los cambios sugeridos\n",
        "model = keras.Sequential()\n",
        "model.add(keras.layers.Dense(20, input_shape=(X_train.shape[1],), activation='tanh'))  # Más neuronas y activación tanh\n",
        "model.add(keras.layers.Dense(10, activation='relu'))  # Capa oculta adicional\n",
        "model.add(keras.layers.Dense(2, activation='softmax'))\n",
        "\n",
        "# Compilar el modelo\n",
        "model.compile(optimizer='adam', loss='categorical_crossentropy', metrics=['accuracy'])\n",
        "\n",
        "# Entrenar el modelo con más épocas y un tamaño de batch más pequeño\n",
        "model.fit(X_train, y_train_categorical, epochs=20, batch_size=16, validation_data=(X_test, y_test_categorical))\n",
        "\n",
        "# Evaluación del modelo\n",
        "loss, accuracy = model.evaluate(X_test, y_test_categorical)\n",
        "print(\"Pérdida con los cambios:\", loss)\n",
        "print(\"Precisión con los cambios:\", accuracy)\n",
        "\n",
        "# Guardar el modelo\n",
        "model.save('modelo_con_cambios.h5')\n",
        "print(\"Modelo guardado en 'modelo_con_cambios.h5'\")"
      ],
      "metadata": {
        "colab": {
          "base_uri": "https://localhost:8080/"
        },
        "id": "fwsKaj3d9VEf",
        "outputId": "378d69f1-0d50-419c-c2e4-1a083ce38922"
      },
      "execution_count": 14,
      "outputs": [
        {
          "output_type": "stream",
          "name": "stdout",
          "text": [
            "Epoch 1/20\n",
            "5/5 [==============================] - 1s 61ms/step - loss: 0.7349 - accuracy: 0.3750 - val_loss: 0.7777 - val_accuracy: 0.1000\n",
            "Epoch 2/20\n",
            "5/5 [==============================] - 0s 10ms/step - loss: 0.6810 - accuracy: 0.5875 - val_loss: 0.7184 - val_accuracy: 0.3500\n",
            "Epoch 3/20\n",
            "5/5 [==============================] - 0s 14ms/step - loss: 0.6441 - accuracy: 0.7625 - val_loss: 0.6609 - val_accuracy: 0.7000\n",
            "Epoch 4/20\n",
            "5/5 [==============================] - 0s 13ms/step - loss: 0.6083 - accuracy: 0.7750 - val_loss: 0.6161 - val_accuracy: 0.7500\n",
            "Epoch 5/20\n",
            "5/5 [==============================] - 0s 10ms/step - loss: 0.5794 - accuracy: 0.8000 - val_loss: 0.5754 - val_accuracy: 0.8500\n",
            "Epoch 6/20\n",
            "5/5 [==============================] - 0s 11ms/step - loss: 0.5511 - accuracy: 0.8375 - val_loss: 0.5443 - val_accuracy: 0.8500\n",
            "Epoch 7/20\n",
            "5/5 [==============================] - 0s 10ms/step - loss: 0.5275 - accuracy: 0.8750 - val_loss: 0.5170 - val_accuracy: 0.9000\n",
            "Epoch 8/20\n",
            "5/5 [==============================] - 0s 18ms/step - loss: 0.5058 - accuracy: 0.8625 - val_loss: 0.4918 - val_accuracy: 0.9000\n",
            "Epoch 9/20\n",
            "5/5 [==============================] - 0s 10ms/step - loss: 0.4870 - accuracy: 0.8625 - val_loss: 0.4685 - val_accuracy: 0.9000\n",
            "Epoch 10/20\n",
            "5/5 [==============================] - 0s 16ms/step - loss: 0.4684 - accuracy: 0.8625 - val_loss: 0.4498 - val_accuracy: 0.9000\n",
            "Epoch 11/20\n",
            "5/5 [==============================] - 0s 17ms/step - loss: 0.4501 - accuracy: 0.8625 - val_loss: 0.4327 - val_accuracy: 0.9000\n",
            "Epoch 12/20\n",
            "5/5 [==============================] - 0s 15ms/step - loss: 0.4351 - accuracy: 0.8625 - val_loss: 0.4169 - val_accuracy: 0.9000\n",
            "Epoch 13/20\n",
            "5/5 [==============================] - 0s 16ms/step - loss: 0.4197 - accuracy: 0.8625 - val_loss: 0.4050 - val_accuracy: 0.9000\n",
            "Epoch 14/20\n",
            "5/5 [==============================] - 0s 13ms/step - loss: 0.4053 - accuracy: 0.8625 - val_loss: 0.3936 - val_accuracy: 0.9000\n",
            "Epoch 15/20\n",
            "5/5 [==============================] - 0s 13ms/step - loss: 0.3937 - accuracy: 0.8500 - val_loss: 0.3844 - val_accuracy: 0.9000\n",
            "Epoch 16/20\n",
            "5/5 [==============================] - 0s 17ms/step - loss: 0.3837 - accuracy: 0.8500 - val_loss: 0.3728 - val_accuracy: 0.9000\n",
            "Epoch 17/20\n",
            "5/5 [==============================] - 0s 14ms/step - loss: 0.3714 - accuracy: 0.8500 - val_loss: 0.3660 - val_accuracy: 0.9000\n",
            "Epoch 18/20\n",
            "5/5 [==============================] - 0s 17ms/step - loss: 0.3629 - accuracy: 0.8500 - val_loss: 0.3607 - val_accuracy: 0.9000\n",
            "Epoch 19/20\n",
            "5/5 [==============================] - 0s 19ms/step - loss: 0.3546 - accuracy: 0.8500 - val_loss: 0.3557 - val_accuracy: 0.9000\n",
            "Epoch 20/20\n",
            "5/5 [==============================] - 0s 14ms/step - loss: 0.3469 - accuracy: 0.8500 - val_loss: 0.3504 - val_accuracy: 0.9000\n",
            "1/1 [==============================] - 0s 45ms/step - loss: 0.3504 - accuracy: 0.9000\n",
            "Pérdida con los cambios: 0.3504113554954529\n",
            "Precisión con los cambios: 0.8999999761581421\n",
            "Modelo guardado en 'modelo_con_cambios.h5'\n"
          ]
        },
        {
          "output_type": "stream",
          "name": "stderr",
          "text": [
            "/usr/local/lib/python3.10/dist-packages/keras/src/engine/training.py:3103: UserWarning: You are saving your model as an HDF5 file via `model.save()`. This file format is considered legacy. We recommend using instead the native Keras format, e.g. `model.save('my_model.keras')`.\n",
            "  saving_api.save_model(\n"
          ]
        }
      ]
    }
  ]
}