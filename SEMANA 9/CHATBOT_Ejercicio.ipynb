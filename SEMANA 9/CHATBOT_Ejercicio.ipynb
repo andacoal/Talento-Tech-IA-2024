{
  "nbformat": 4,
  "nbformat_minor": 0,
  "metadata": {
    "colab": {
      "provenance": []
    },
    "kernelspec": {
      "name": "python3",
      "display_name": "Python 3"
    },
    "language_info": {
      "name": "python"
    }
  },
  "cells": [
    {
      "cell_type": "markdown",
      "source": [
        "# Actividad: chatbot"
      ],
      "metadata": {
        "id": "1OoODYK8IYIh"
      }
    },
    {
      "cell_type": "code",
      "execution_count": 1,
      "metadata": {
        "colab": {
          "base_uri": "https://localhost:8080/"
        },
        "id": "wACYBbYYIUEB",
        "outputId": "c5021971-3d29-47c0-af74-563577c41abc"
      },
      "outputs": [
        {
          "output_type": "stream",
          "name": "stdout",
          "text": [
            "Collecting chatterbot\n",
            "  Using cached ChatterBot-1.0.5-py2.py3-none-any.whl.metadata (8.1 kB)\n",
            "Collecting mathparse<0.2,>=0.1 (from chatterbot)\n",
            "  Using cached mathparse-0.1.2-py3-none-any.whl.metadata (776 bytes)\n",
            "Requirement already satisfied: nltk<4.0,>=3.2 in /usr/local/lib/python3.10/dist-packages (from chatterbot) (3.8.1)\n",
            "Collecting pint>=0.8.1 (from chatterbot)\n",
            "  Using cached Pint-0.24.3-py3-none-any.whl.metadata (8.5 kB)\n",
            "Collecting pymongo<4.0,>=3.3 (from chatterbot)\n",
            "  Using cached pymongo-3.13.0-cp310-cp310-manylinux_2_17_x86_64.manylinux2014_x86_64.whl.metadata (9.7 kB)\n",
            "Collecting python-dateutil<2.8,>=2.7 (from chatterbot)\n",
            "  Using cached python_dateutil-2.7.5-py2.py3-none-any.whl.metadata (7.5 kB)\n",
            "Collecting pyyaml<5.2,>=5.1 (from chatterbot)\n",
            "  Using cached PyYAML-5.1.2.tar.gz (265 kB)\n",
            "  \u001b[1;31merror\u001b[0m: \u001b[1msubprocess-exited-with-error\u001b[0m\n",
            "  \n",
            "  \u001b[31m×\u001b[0m \u001b[32mpython setup.py egg_info\u001b[0m did not run successfully.\n",
            "  \u001b[31m│\u001b[0m exit code: \u001b[1;36m1\u001b[0m\n",
            "  \u001b[31m╰─>\u001b[0m See above for output.\n",
            "  \n",
            "  \u001b[1;35mnote\u001b[0m: This error originates from a subprocess, and is likely not a problem with pip.\n",
            "  Preparing metadata (setup.py) ... \u001b[?25l\u001b[?25herror\n",
            "\u001b[1;31merror\u001b[0m: \u001b[1mmetadata-generation-failed\u001b[0m\n",
            "\n",
            "\u001b[31m×\u001b[0m Encountered error while generating package metadata.\n",
            "\u001b[31m╰─>\u001b[0m See above for output.\n",
            "\n",
            "\u001b[1;35mnote\u001b[0m: This is an issue with the package mentioned above, not pip.\n",
            "\u001b[1;36mhint\u001b[0m: See above for details.\n",
            "Requirement already satisfied: flask in /usr/local/lib/python3.10/dist-packages (2.2.5)\n",
            "Requirement already satisfied: Werkzeug>=2.2.2 in /usr/local/lib/python3.10/dist-packages (from flask) (3.0.4)\n",
            "Requirement already satisfied: Jinja2>=3.0 in /usr/local/lib/python3.10/dist-packages (from flask) (3.1.4)\n",
            "Requirement already satisfied: itsdangerous>=2.0 in /usr/local/lib/python3.10/dist-packages (from flask) (2.2.0)\n",
            "Requirement already satisfied: click>=8.0 in /usr/local/lib/python3.10/dist-packages (from flask) (8.1.7)\n",
            "Requirement already satisfied: MarkupSafe>=2.0 in /usr/local/lib/python3.10/dist-packages (from Jinja2>=3.0->flask) (2.1.5)\n",
            "Requirement already satisfied: flask-ngrok in /usr/local/lib/python3.10/dist-packages (0.0.25)\n",
            "Requirement already satisfied: Flask>=0.8 in /usr/local/lib/python3.10/dist-packages (from flask-ngrok) (2.2.5)\n",
            "Requirement already satisfied: requests in /usr/local/lib/python3.10/dist-packages (from flask-ngrok) (2.32.3)\n",
            "Requirement already satisfied: Werkzeug>=2.2.2 in /usr/local/lib/python3.10/dist-packages (from Flask>=0.8->flask-ngrok) (3.0.4)\n",
            "Requirement already satisfied: Jinja2>=3.0 in /usr/local/lib/python3.10/dist-packages (from Flask>=0.8->flask-ngrok) (3.1.4)\n",
            "Requirement already satisfied: itsdangerous>=2.0 in /usr/local/lib/python3.10/dist-packages (from Flask>=0.8->flask-ngrok) (2.2.0)\n",
            "Requirement already satisfied: click>=8.0 in /usr/local/lib/python3.10/dist-packages (from Flask>=0.8->flask-ngrok) (8.1.7)\n",
            "Requirement already satisfied: charset-normalizer<4,>=2 in /usr/local/lib/python3.10/dist-packages (from requests->flask-ngrok) (3.3.2)\n",
            "Requirement already satisfied: idna<4,>=2.5 in /usr/local/lib/python3.10/dist-packages (from requests->flask-ngrok) (3.8)\n",
            "Requirement already satisfied: urllib3<3,>=1.21.1 in /usr/local/lib/python3.10/dist-packages (from requests->flask-ngrok) (2.0.7)\n",
            "Requirement already satisfied: certifi>=2017.4.17 in /usr/local/lib/python3.10/dist-packages (from requests->flask-ngrok) (2024.7.4)\n",
            "Requirement already satisfied: MarkupSafe>=2.0 in /usr/local/lib/python3.10/dist-packages (from Jinja2>=3.0->Flask>=0.8->flask-ngrok) (2.1.5)\n"
          ]
        }
      ],
      "source": [
        "!pip install chatterbot\n",
        "!pip install flask\n",
        "!pip install flask-ngrok"
      ]
    },
    {
      "cell_type": "code",
      "source": [
        "def respuesta(pregunta):\n",
        "    respuestas = {\n",
        "        \"Hola\": \"Hola! Claro que sí.\",\n",
        "        \"Adiós\": \"¡Hasta luego! ¡Que tengas un buen día!\",\n",
        "        \"salud mental\": \"La salud mental se refiere al bienestar emocional, psicológico y social. Abarca cómo pensamos, sentimos y actuamos en nuestra vida diaria.\",\n",
        "        \"estrés\": \"El estrés es una respuesta física y emocional a situaciones que percibimos como desafiantes o amenazantes.\",\n",
        "        \"manejar el estrés\": \"Algunas formas de manejar el estrés incluyen practicar la meditación, realizar actividades físicas, y hablar con amigos o familiares.\",\n",
        "        \"buscar ayuda profesional\": \"Deberías considerar buscar ayuda profesional si sientes que no puedes manejar tus problemas emocionales por tu cuenta o si tus síntomas afectan tu vida diaria.\",\n",
        "        \"gracias\": \"¿Puedo ayudarte con algo más?\"\n",
        "      }\n",
        "\n",
        "    pregunta_lower = pregunta.lower()\n",
        "    for clave, respuesta in respuestas.items():\n",
        "        if clave in pregunta_lower:\n",
        "            return respuesta\n",
        "\n",
        "    return \"Lo siento, no tengo información sobre eso.\"\n",
        "\n",
        "# Interacción con el chatbot\n",
        "# Ciclo para mantener la conversación hasta que el usuario decida salir\n",
        "while True:\n",
        "    user_input = input(\"Tú: \")\n",
        "\n",
        "    # Responder a diferentes mensajes del usuario\n",
        "    if \"hola\" in user_input.lower():\n",
        "        print(\"Chatbot: ¡Hola! Claro.\")\n",
        "    if \"gracias\" in user_input.lower():\n",
        "        print(\"Chatbot: Con gusto.\")\n",
        "    if \"adiós\" in user_input.lower():\n",
        "        print(\"Chatbot: ¡Hasta luego! ¡Que tengas un buen día!\")\n",
        "        break\n",
        "    if user_input.lower() == \"No, gracias\":\n",
        "        print(\"Chatbot: Estoy aquí para ayudarte con lo que necesites. Si quieres terminar, escribe 'salir'.\")\n",
        "        break\n",
        "\n",
        "    # Obtener la respuesta del chatbot\n",
        "    respuesta_chatbot = respuesta(user_input)\n",
        "    print(f\"Chatbot: {respuesta_chatbot}\")\n"
      ],
      "metadata": {
        "colab": {
          "base_uri": "https://localhost:8080/"
        },
        "id": "yvQd9ltEQpKI",
        "outputId": "7bb233d9-96f8-4a8c-8ff8-cf0aaf695f44"
      },
      "execution_count": 2,
      "outputs": [
        {
          "output_type": "stream",
          "name": "stdout",
          "text": [
            "Tú: Hola. ¿Puedes decirme qué es la salud mental?\n",
            "Chatbot: ¡Hola! Claro.\n",
            "Chatbot: La salud mental se refiere al bienestar emocional, psicológico y social. Abarca cómo pensamos, sentimos y actuamos en nuestra vida diaria.\n",
            "Tú: Gracias por la información\n",
            "Chatbot: Con gusto.\n",
            "Chatbot: ¿Puedo ayudarte con algo más?\n",
            "Tú: No. Adiós\n",
            "Chatbot: ¡Hasta luego! ¡Que tengas un buen día!\n"
          ]
        }
      ]
    }
  ]
}