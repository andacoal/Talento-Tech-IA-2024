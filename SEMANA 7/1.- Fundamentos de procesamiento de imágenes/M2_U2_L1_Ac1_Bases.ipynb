{
  "nbformat": 4,
  "nbformat_minor": 0,
  "metadata": {
    "colab": {
      "provenance": []
    },
    "kernelspec": {
      "name": "python3",
      "display_name": "Python 3"
    },
    "language_info": {
      "name": "python"
    }
  },
  "cells": [
    {
      "cell_type": "markdown",
      "source": [
        "# Actividad\n",
        "Bases de Programación en\n",
        "Procesamiento de Imágenes."
      ],
      "metadata": {
        "id": "NkUiy-ufZLX2"
      }
    },
    {
      "cell_type": "markdown",
      "source": [
        "\n",
        "\n",
        "---\n",
        "Por: Ángela Daniela Córdoba Álvarez\n",
        "\n",
        "\n",
        "---\n",
        "\n",
        "\n"
      ],
      "metadata": {
        "id": "MCvR3N-qZSPU"
      }
    },
    {
      "cell_type": "markdown",
      "source": [
        "#### ¿Qué es una imagen digital?\n",
        "Es una representación visual de datos en forma de píxeles (elementos de imagen mínimos), donde cada píxel tiene un valor que indica su color y brillo.\n",
        "\n"
      ],
      "metadata": {
        "id": "5P_ldBi6ZZv9"
      }
    },
    {
      "cell_type": "markdown",
      "source": [
        "#### Composición de una imagen digital:\n",
        "\n",
        "* Las imágenes digitales se componen de una cuadrícula de píxeles dispuestos en filas y columnas.\n",
        "\n",
        "* Cada píxel contiene información sobre su color y brillo, representada por valores numéricos.\n",
        "\n",
        "* La resolución de la imagen determina la cantidad de píxeles en la cuadrícula y afecta la calidad de la imagen.\n",
        "\n",
        "* La profundidad de bits determina la cantidad de información que se puede almacenar para cada píxel y afecta la precisión del color."
      ],
      "metadata": {
        "id": "zUBAKw6hZ7ZU"
      }
    },
    {
      "cell_type": "markdown",
      "source": [
        "#### Representación de una imagen como matriz de píxeles:\n",
        "Para procesar una imagen digital en una computadora, se la representa como una matriz bidimensional (o tridimensional en el caso de imágenes en color).\n",
        "En una imagen en escala de grises:\n",
        "Cada elemento de la matriz representa la intensidad de brillo de un píxel, donde valores más altos indican píxeles más brillantes y valores más bajos indican píxeles más oscuros.\n",
        "En una imagen en color, se utilizan tres matrices (una para cada canal de color: rojo, verde y azul) para representar la información de color de cada píxel."
      ],
      "metadata": {
        "id": "Y2-KUVWkZy4V"
      }
    },
    {
      "cell_type": "code",
      "execution_count": 1,
      "metadata": {
        "id": "55xXpLilZBqq",
        "colab": {
          "base_uri": "https://localhost:8080/",
          "height": 429
        },
        "outputId": "0ce71bba-bcb7-4791-a74d-8bf360ddc2d0"
      },
      "outputs": [
        {
          "output_type": "display_data",
          "data": {
            "text/plain": [
              "<Figure size 640x480 with 1 Axes>"
            ],
            "image/png": "[encoded data removed]"
          },
          "metadata": {}
        }
      ],
      "source": [
        "# Ejemplo práctico\n",
        "\n",
        "import numpy as np\n",
        "import matplotlib.pyplot as plt\n",
        "from sklearn import datasets\n",
        "\n",
        "# Crear una imagen de ejemplo de un número 8 en escala de grises\n",
        "\n",
        "# Cargar el conjunto de datos de dígitos\n",
        "digits = datasets.load_digits()\n",
        "\n",
        "# Obtener la imagen del número 8\n",
        "image_matrix = digits.images[digits.target == 8][0]\n",
        "\n",
        "# Mostrar la imagen usando matplotlib\n",
        "plt.imshow(image_matrix, cmap='gray', vmin=0, vmax=16)\n",
        "plt.title(\"Dígito 8 en una matriz 28x28\")\n",
        "plt.axis('off')\n",
        "plt.show()"
      ]
    },
    {
      "cell_type": "code",
      "source": [],
      "metadata": {
        "id": "mIAkVMk_nXsj"
      },
      "execution_count": 1,
      "outputs": []
    }
  ]
}